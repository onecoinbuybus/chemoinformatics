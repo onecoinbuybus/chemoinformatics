{
 "cells": [
  {
   "cell_type": "code",
   "execution_count": 114,
   "id": "honest-family",
   "metadata": {},
   "outputs": [],
   "source": [
    "from __future__ import print_function\n",
    "import argparse\n",
    "import copy\n",
    "import nltk\n",
    "import threading\n",
    "\n",
    "import numpy as np\n",
    "from rdkit import Chem\n",
    "from rdkit import rdBase\n",
    "\n",
    "import cfg_util\n",
    "import score_util\n",
    "import zinc_grammar\n",
    "\n",
    "rdBase.DisableLog('rdApp.error')"
   ]
  },
  {
   "cell_type": "code",
   "execution_count": 126,
   "id": "optional-member",
   "metadata": {},
   "outputs": [],
   "source": [
    "import turtle"
   ]
  },
  {
   "cell_type": "code",
   "execution_count": 115,
   "id": "raised-navigator",
   "metadata": {},
   "outputs": [],
   "source": [
    "#GCFG = nltk.CFG.fromstring(gram)\n",
    "GCFG = zinc_grammar.GCFG"
   ]
  },
  {
   "cell_type": "code",
   "execution_count": 116,
   "id": "indonesian-destruction",
   "metadata": {},
   "outputs": [
    {
     "data": {
      "text/plain": [
       "<Grammar with 74 productions>"
      ]
     },
     "execution_count": 116,
     "metadata": {},
     "output_type": "execute_result"
    }
   ],
   "source": [
    "GCFG"
   ]
  },
  {
   "cell_type": "code",
   "execution_count": 117,
   "id": "marine-server",
   "metadata": {},
   "outputs": [],
   "source": [
    "def CFGtoGene(prod_rules, max_len=-1):\n",
    "    gene = []\n",
    "    for r in prod_rules:\n",
    "        lhs = GCFG.productions()[r].lhs()\n",
    "        possible_rules = [idx for idx, rule in enumerate(GCFG.productions())\n",
    "                          if rule.lhs() == lhs]\n",
    "        gene.append(possible_rules.index(r))\n",
    "    if max_len > 0:\n",
    "        if len(gene) > max_len:\n",
    "            gene = gene[:max_len]\n",
    "        else:\n",
    "            gene = gene + [np.random.randint(0, 256)\n",
    "                           for _ in range(max_len-len(gene))]\n",
    "    return gene\n",
    "\n",
    "\n",
    "def GenetoCFG(gene):\n",
    "    prod_rules = []\n",
    "    stack = [GCFG.productions()[0].lhs()]\n",
    "    for g in gene:\n",
    "        try:\n",
    "            lhs = stack.pop()\n",
    "        except Exception:\n",
    "            break\n",
    "        possible_rules = [idx for idx, rule in enumerate(GCFG.productions())\n",
    "                          if rule.lhs() == lhs]\n",
    "        rule = possible_rules[g % len(possible_rules)]\n",
    "        prod_rules.append(rule)\n",
    "        rhs = filter(lambda a: (type(a) == nltk.grammar.Nonterminal)\n",
    "                     and (str(a) != 'None'),\n",
    "                     zinc_grammar.GCFG.productions()[rule].rhs())\n",
    "        stack.extend(list(rhs)[::-1])\n",
    "    return prod_rules\n",
    "\n",
    "\n",
    "def mutation(gene):\n",
    "    idx = np.random.choice(len(gene))\n",
    "    gene_mutant = copy.deepcopy(gene)\n",
    "    gene_mutant[idx] = np.random.randint(0, 256)\n",
    "    return gene_mutant\n",
    "\n",
    "\n",
    "def canonicalize(smiles):\n",
    "    mol = Chem.MolFromSmiles(smiles)\n",
    "    if smiles != '' and mol is not None and mol.GetNumAtoms() > 1:\n",
    "        return Chem.MolToSmiles(mol)\n",
    "    else:\n",
    "        return smiles"
   ]
  },
  {
   "cell_type": "code",
   "execution_count": 118,
   "id": "controlling-letters",
   "metadata": {},
   "outputs": [],
   "source": [
    "elapsed_min = 0\n",
    "best_score = 0\n",
    "mean_score = 0\n",
    "std_score = 0\n",
    "min_score = 0\n",
    "best_smiles = \"\"\n",
    "all_smiles = []"
   ]
  },
  {
   "cell_type": "code",
   "execution_count": 11,
   "id": "material-disco",
   "metadata": {},
   "outputs": [],
   "source": [
    "parser = argparse.ArgumentParser()\n",
    "parser.add_argument('--smifile', default='250k_rndm_zinc_drugs_clean.smi')\n",
    "parser.add_argument('--seed', type=int, default=0)\n",
    "args = parser.parse_known_args()\n",
    "\n",
    "# global best_smiles\n",
    "# global best_score\n",
    "# global all_smiles\n",
    "\n",
    "# gene_length = 300\n",
    "\n",
    "# N_mu = 100\n",
    "# N_lambda = 200"
   ]
  },
  {
   "cell_type": "code",
   "execution_count": 12,
   "id": "amber-organ",
   "metadata": {},
   "outputs": [
    {
     "data": {
      "text/plain": [
       "(Namespace(seed=0, smifile='250k_rndm_zinc_drugs_clean.smi'),\n",
       " ['-f',\n",
       "  '/Users/yweilin/Library/Jupyter/runtime/kernel-9bf330ed-1453-43ce-b22f-14a166c24c78.json'])"
      ]
     },
     "execution_count": 12,
     "metadata": {},
     "output_type": "execute_result"
    }
   ],
   "source": [
    "args"
   ]
  },
  {
   "cell_type": "code",
   "execution_count": 19,
   "id": "breathing-chapter",
   "metadata": {},
   "outputs": [],
   "source": [
    "seed_smiles = []\n",
    "with open('250k_rndm_zinc_drugs_clean.smi') as f:\n",
    "    for line in f:\n",
    "        smiles = line.rstrip()\n",
    "        seed_smiles.append(smiles)"
   ]
  },
  {
   "cell_type": "code",
   "execution_count": 21,
   "id": "artificial-apartment",
   "metadata": {},
   "outputs": [
    {
     "data": {
      "text/plain": [
       "249456"
      ]
     },
     "execution_count": 21,
     "metadata": {},
     "output_type": "execute_result"
    }
   ],
   "source": [
    "len(seed_smiles)"
   ]
  },
  {
   "cell_type": "code",
   "execution_count": 119,
   "id": "royal-premium",
   "metadata": {},
   "outputs": [
    {
     "data": {
      "text/plain": [
       "'Cc1ccc2nc(S[C@H](C)C(=O)NC3CCC(C)CC3)n(C)c(=O)c2c1'"
      ]
     },
     "execution_count": 119,
     "metadata": {},
     "output_type": "execute_result"
    }
   ],
   "source": [
    "seed_smiles[11]"
   ]
  },
  {
   "cell_type": "code",
   "execution_count": 120,
   "id": "widespread-replacement",
   "metadata": {},
   "outputs": [],
   "source": [
    "N_mu = 100\n",
    "N_lambda = 200\n",
    "gene_length = 300"
   ]
  },
  {
   "cell_type": "code",
   "execution_count": 121,
   "id": "altered-absence",
   "metadata": {},
   "outputs": [],
   "source": [
    "initial_smiles = np.random.choice(seed_smiles, N_mu+N_lambda)\n",
    "initial_smiles = [canonicalize(s) for s in initial_smiles]\n",
    "initial_genes = [CFGtoGene(cfg_util.encode(s), max_len=gene_length) for s in initial_smiles]\n",
    "initial_scores = [score_util.calc_score(s) for s in initial_smiles]"
   ]
  },
  {
   "cell_type": "code",
   "execution_count": 124,
   "id": "devoted-cabinet",
   "metadata": {},
   "outputs": [],
   "source": [
    "try_smi= 'O=C(OCCCCOCCCCOCCCCOCCCCOC(Nc1ccc(Cc2ccc(NC(C)=O)cc2)cc1)=O)Nc3ccc(Cc4ccc(NC(OCCNC5=NC(NCCOC(Nc6ccc(Cc7ccc(NC(OCCCCOCCCCOCCCCOC)=O)cc7)cc6)=O)=NC(NCCOC(Nc8ccc(Ccccc(NC(OCCCCOCCCCOCCCCOCCCCOCCCCOC)=O)cc)cc8)=O)=N5)=O)cc4)cc3'\n",
    "try_gene = CFGtoGene(cfg_util.encode(try_smi), max_len=gene_length)"
   ]
  },
  {
   "cell_type": "code",
   "execution_count": 125,
   "id": "allied-letters",
   "metadata": {
    "collapsed": true,
    "jupyter": {
     "outputs_hidden": true
    },
    "tags": []
   },
   "outputs": [
    {
     "data": {
      "text/plain": [
       "[0,\n",
       " 1,\n",
       " 1,\n",
       " 1,\n",
       " 1,\n",
       " 1,\n",
       " 1,\n",
       " 1,\n",
       " 2,\n",
       " 0,\n",
       " 0,\n",
       " 1,\n",
       " 3,\n",
       " 1,\n",
       " 2,\n",
       " 1,\n",
       " 1,\n",
       " 1,\n",
       " 0,\n",
       " 2,\n",
       " 1,\n",
       " 1,\n",
       " 1,\n",
       " 1,\n",
       " 1,\n",
       " 1,\n",
       " 1,\n",
       " 1,\n",
       " 1,\n",
       " 1,\n",
       " 1,\n",
       " 1,\n",
       " 1,\n",
       " 1,\n",
       " 1,\n",
       " 1,\n",
       " 1,\n",
       " 1,\n",
       " 1,\n",
       " 1,\n",
       " 1,\n",
       " 0,\n",
       " 0,\n",
       " 1,\n",
       " 3,\n",
       " 0,\n",
       " 1,\n",
       " 1,\n",
       " 0,\n",
       " 1,\n",
       " 1,\n",
       " 0,\n",
       " 1,\n",
       " 1,\n",
       " 0,\n",
       " 1,\n",
       " 1,\n",
       " 0,\n",
       " 1,\n",
       " 3,\n",
       " 0,\n",
       " 1,\n",
       " 1,\n",
       " 0,\n",
       " 1,\n",
       " 1,\n",
       " 0,\n",
       " 1,\n",
       " 1,\n",
       " 0,\n",
       " 1,\n",
       " 1,\n",
       " 0,\n",
       " 1,\n",
       " 3,\n",
       " 0,\n",
       " 1,\n",
       " 1,\n",
       " 0,\n",
       " 1,\n",
       " 1,\n",
       " 0,\n",
       " 1,\n",
       " 1,\n",
       " 0,\n",
       " 1,\n",
       " 1,\n",
       " 0,\n",
       " 1,\n",
       " 3,\n",
       " 0,\n",
       " 1,\n",
       " 1,\n",
       " 0,\n",
       " 1,\n",
       " 1,\n",
       " 0,\n",
       " 1,\n",
       " 1,\n",
       " 0,\n",
       " 1,\n",
       " 1,\n",
       " 0,\n",
       " 1,\n",
       " 3,\n",
       " 2,\n",
       " 1,\n",
       " 1,\n",
       " 1,\n",
       " 0,\n",
       " 1,\n",
       " 1,\n",
       " 1,\n",
       " 1,\n",
       " 1,\n",
       " 1,\n",
       " 0,\n",
       " 0,\n",
       " 1,\n",
       " 2,\n",
       " 1,\n",
       " 2,\n",
       " 0,\n",
       " 1,\n",
       " 0,\n",
       " 0,\n",
       " 0,\n",
       " 2,\n",
       " 0,\n",
       " 0,\n",
       " 2,\n",
       " 0,\n",
       " 2,\n",
       " 2,\n",
       " 0,\n",
       " 1,\n",
       " 0,\n",
       " 1,\n",
       " 1,\n",
       " 1,\n",
       " 1,\n",
       " 1,\n",
       " 1,\n",
       " 0,\n",
       " 0,\n",
       " 1,\n",
       " 1,\n",
       " 1,\n",
       " 2,\n",
       " 0,\n",
       " 1,\n",
       " 0,\n",
       " 1,\n",
       " 0,\n",
       " 2,\n",
       " 0,\n",
       " 0,\n",
       " 2,\n",
       " 0,\n",
       " 2,\n",
       " 2,\n",
       " 0,\n",
       " 1,\n",
       " 0,\n",
       " 2,\n",
       " 1,\n",
       " 0,\n",
       " 0,\n",
       " 1,\n",
       " 2,\n",
       " 2,\n",
       " 1,\n",
       " 1,\n",
       " 1,\n",
       " 0,\n",
       " 0,\n",
       " 0,\n",
       " 1,\n",
       " 1,\n",
       " 1,\n",
       " 0,\n",
       " 1,\n",
       " 3,\n",
       " 0,\n",
       " 2,\n",
       " 0,\n",
       " 1,\n",
       " 2,\n",
       " 0,\n",
       " 1,\n",
       " 0,\n",
       " 1,\n",
       " 0,\n",
       " 2,\n",
       " 0,\n",
       " 1,\n",
       " 2,\n",
       " 0,\n",
       " 1,\n",
       " 0,\n",
       " 0,\n",
       " 1,\n",
       " 0,\n",
       " 1,\n",
       " 3,\n",
       " 0,\n",
       " 1,\n",
       " 2,\n",
       " 1,\n",
       " 2,\n",
       " 0,\n",
       " 1,\n",
       " 0,\n",
       " 2,\n",
       " 0,\n",
       " 2,\n",
       " 0,\n",
       " 0,\n",
       " 2,\n",
       " 0,\n",
       " 2,\n",
       " 2,\n",
       " 0,\n",
       " 1,\n",
       " 0,\n",
       " 1,\n",
       " 1,\n",
       " 1,\n",
       " 1,\n",
       " 1,\n",
       " 1,\n",
       " 0,\n",
       " 0,\n",
       " 1,\n",
       " 1,\n",
       " 1,\n",
       " 2,\n",
       " 0,\n",
       " 1,\n",
       " 0,\n",
       " 3,\n",
       " 0,\n",
       " 2,\n",
       " 0,\n",
       " 0,\n",
       " 2,\n",
       " 0,\n",
       " 2,\n",
       " 2,\n",
       " 0,\n",
       " 1,\n",
       " 0,\n",
       " 2,\n",
       " 1,\n",
       " 0,\n",
       " 0,\n",
       " 1,\n",
       " 2,\n",
       " 2,\n",
       " 1,\n",
       " 1,\n",
       " 1,\n",
       " 0,\n",
       " 2,\n",
       " 1,\n",
       " 2,\n",
       " 1,\n",
       " 2,\n",
       " 1,\n",
       " 1,\n",
       " 1,\n",
       " 1,\n",
       " 0,\n",
       " 0,\n",
       " 1,\n",
       " 3,\n",
       " 0,\n",
       " 1,\n",
       " 1,\n",
       " 0,\n",
       " 1,\n",
       " 1,\n",
       " 0,\n",
       " 1,\n",
       " 2,\n",
       " 1,\n",
       " 1,\n",
       " 1,\n",
       " 1,\n",
       " 0,\n",
       " 4,\n",
       " 1,\n",
       " 0,\n",
       " 1,\n",
       " 2,\n",
       " 2,\n",
       " 1,\n",
       " 1,\n",
       " 1,\n",
       " 0]"
      ]
     },
     "execution_count": 125,
     "metadata": {},
     "output_type": "execute_result"
    }
   ],
   "source": [
    "try_gene"
   ]
  },
  {
   "cell_type": "code",
   "execution_count": 105,
   "id": "trying-copying",
   "metadata": {},
   "outputs": [
    {
     "data": {
      "text/plain": [
       "300"
      ]
     },
     "execution_count": 105,
     "metadata": {},
     "output_type": "execute_result"
    }
   ],
   "source": [
    "len(initial_genes[0])"
   ]
  },
  {
   "cell_type": "code",
   "execution_count": 31,
   "id": "compound-missouri",
   "metadata": {},
   "outputs": [],
   "source": [
    "population = []\n",
    "for score, gene, smiles in zip(initial_scores, initial_genes,initial_smiles):\n",
    "    population.append((score, smiles, gene))"
   ]
  },
  {
   "cell_type": "code",
   "execution_count": null,
   "id": "clean-dryer",
   "metadata": {},
   "outputs": [],
   "source": [
    "##"
   ]
  },
  {
   "cell_type": "code",
   "execution_count": 50,
   "id": "expanded-animal",
   "metadata": {},
   "outputs": [],
   "source": [
    "def get_zinc_tokenizer(cfg):\n",
    "    long_tokens = [a for a in cfg._lexical_index.keys() if len(a) > 1]\n",
    "    replacements = ['$', '%', '^']\n",
    "    assert len(long_tokens) == len(replacements)\n",
    "    for token in replacements:\n",
    "        assert token not in cfg._lexical_index\n",
    "\n",
    "    def tokenize(smiles):\n",
    "        for i, token in enumerate(long_tokens):\n",
    "            smiles = smiles.replace(token, replacements[i])\n",
    "        tokens = []\n",
    "        for token in smiles:\n",
    "            try:\n",
    "                ix = replacements.index(token)\n",
    "                tokens.append(long_tokens[ix])\n",
    "            except Exception:\n",
    "                tokens.append(token)\n",
    "        return tokens\n",
    "    return tokenize"
   ]
  },
  {
   "cell_type": "code",
   "execution_count": 53,
   "id": "affiliated-thomson",
   "metadata": {},
   "outputs": [
    {
     "data": {
      "text/plain": [
       "'Cc1ccc2nc(S[C@H](C)C(=O)NC3CCC(C)CC3)n(C)c(=O)c2c1'"
      ]
     },
     "execution_count": 53,
     "metadata": {},
     "output_type": "execute_result"
    }
   ],
   "source": [
    "seed_smiles[11]"
   ]
  },
  {
   "cell_type": "code",
   "execution_count": 55,
   "id": "federal-commodity",
   "metadata": {},
   "outputs": [
    {
     "data": {
      "image/png": "[encoded data removed]",
      "text/plain": [
       "<rdkit.Chem.rdchem.Mol at 0x7fe1bec92080>"
      ]
     },
     "execution_count": 55,
     "metadata": {},
     "output_type": "execute_result"
    }
   ],
   "source": [
    "Chem.MolFromSmiles(seed_smiles[11])"
   ]
  },
  {
   "cell_type": "code",
   "execution_count": 52,
   "id": "furnished-complexity",
   "metadata": {},
   "outputs": [
    {
     "data": {
      "text/plain": [
       "<function __main__.get_zinc_tokenizer.<locals>.tokenize(smiles)>"
      ]
     },
     "execution_count": 52,
     "metadata": {},
     "output_type": "execute_result"
    }
   ],
   "source": [
    "GCFG = zinc_grammar.GCFG\n",
    "tokenize = get_zinc_tokenizer(GCFG)"
   ]
  },
  {
   "cell_type": "code",
   "execution_count": null,
   "id": "furnished-disorder",
   "metadata": {},
   "outputs": [],
   "source": []
  },
  {
   "cell_type": "code",
   "execution_count": 65,
   "id": "center-honor",
   "metadata": {},
   "outputs": [],
   "source": [
    "tokens = tokenize('CC(=O)OC1=CC=CC=C1C(=O)O')"
   ]
  },
  {
   "cell_type": "code",
   "execution_count": 66,
   "id": "amateur-royal",
   "metadata": {},
   "outputs": [
    {
     "name": "stdout",
     "output_type": "stream",
     "text": [
      "['C', 'C', '(', '=', 'O', ')', 'O', 'C', '1', '=', 'C', 'C', '=', 'C', 'C', '=', 'C', '1', 'C', '(', '=', 'O', ')', 'O']\n"
     ]
    }
   ],
   "source": [
    "print(tokens)"
   ]
  },
  {
   "cell_type": "code",
   "execution_count": 67,
   "id": "referenced-observer",
   "metadata": {},
   "outputs": [],
   "source": [
    "parser = nltk.ChartParser(GCFG)"
   ]
  },
  {
   "cell_type": "code",
   "execution_count": 68,
   "id": "british-chile",
   "metadata": {},
   "outputs": [
    {
     "data": {
      "text/plain": [
       "<nltk.parse.chart.ChartParser at 0x7fe1becf2310>"
      ]
     },
     "execution_count": 68,
     "metadata": {},
     "output_type": "execute_result"
    }
   ],
   "source": [
    "parser"
   ]
  },
  {
   "cell_type": "code",
   "execution_count": 70,
   "id": "confirmed-adult",
   "metadata": {},
   "outputs": [
    {
     "data": {
      "image/png": "[encoded data removed]",
      "text/plain": [
       "Tree('smiles', [Tree('chain', [Tree('chain', [Tree('chain', [Tree('chain', [Tree('chain', [Tree('chain', [Tree('chain', [Tree('chain', [Tree('chain', [Tree('chain', [Tree('chain', [Tree('branched_atom', [Tree('atom', [Tree('aliphatic_organic', ['C'])])])]), Tree('branched_atom', [Tree('atom', [Tree('aliphatic_organic', ['C'])]), Tree('BB', [Tree('branch', ['(', Tree('bond', ['=']), Tree('chain', [Tree('branched_atom', [Tree('atom', [Tree('aliphatic_organic', ['O'])])])]), ')'])])])]), Tree('branched_atom', [Tree('atom', [Tree('aliphatic_organic', ['O'])])])]), Tree('branched_atom', [Tree('atom', [Tree('aliphatic_organic', ['C'])]), Tree('RB', [Tree('ringbond', [Tree('DIGIT', ['1'])])])])]), Tree('bond', ['=']), Tree('branched_atom', [Tree('atom', [Tree('aliphatic_organic', ['C'])])])]), Tree('branched_atom', [Tree('atom', [Tree('aliphatic_organic', ['C'])])])]), Tree('bond', ['=']), Tree('branched_atom', [Tree('atom', [Tree('aliphatic_organic', ['C'])])])]), Tree('branched_atom', [Tree('atom', [Tree('aliphatic_organic', ['C'])])])]), Tree('bond', ['=']), Tree('branched_atom', [Tree('atom', [Tree('aliphatic_organic', ['C'])]), Tree('RB', [Tree('ringbond', [Tree('DIGIT', ['1'])])])])]), Tree('branched_atom', [Tree('atom', [Tree('aliphatic_organic', ['C'])]), Tree('BB', [Tree('branch', ['(', Tree('bond', ['=']), Tree('chain', [Tree('branched_atom', [Tree('atom', [Tree('aliphatic_organic', ['O'])])])]), ')'])])])]), Tree('branched_atom', [Tree('atom', [Tree('aliphatic_organic', ['O'])])])])])"
      ]
     },
     "execution_count": 70,
     "metadata": {},
     "output_type": "execute_result"
    }
   ],
   "source": [
    "parse_tree = parser.parse('CC(=O)OC1=CC=CC=C1C(=O)O').__next__()\n",
    "parse_tree"
   ]
  },
  {
   "cell_type": "code",
   "execution_count": 76,
   "id": "clinical-riding",
   "metadata": {},
   "outputs": [
    {
     "data": {
      "text/plain": [
       "'(smiles\\n  (chain\\n    (chain\\n      (chain\\n        (chain\\n          (chain\\n            (chain\\n              (chain\\n                (chain\\n                  (chain\\n                    (chain\\n                      (chain\\n                        (branched_atom (atom (aliphatic_organic C))))\\n                      (branched_atom\\n                        (atom (aliphatic_organic C))\\n                        (BB\\n                          (branch\\n                            (\\n                            (bond =)\\n                            (chain\\n                              (branched_atom\\n                                (atom (aliphatic_organic O))))\\n                            )))))\\n                    (branched_atom (atom (aliphatic_organic O))))\\n                  (branched_atom\\n                    (atom (aliphatic_organic C))\\n                    (RB (ringbond (DIGIT 1)))))\\n                (bond =)\\n                (branched_atom (atom (aliphatic_organic C))))\\n              (branched_atom (atom (aliphatic_organic C))))\\n            (bond =)\\n            (branched_atom (atom (aliphatic_organic C))))\\n          (branched_atom (atom (aliphatic_organic C))))\\n        (bond =)\\n        (branched_atom\\n          (atom (aliphatic_organic C))\\n          (RB (ringbond (DIGIT 1)))))\\n      (branched_atom\\n        (atom (aliphatic_organic C))\\n        (BB\\n          (branch\\n            (\\n            (bond =)\\n            (chain (branched_atom (atom (aliphatic_organic O))))\\n            )))))\\n    (branched_atom (atom (aliphatic_organic O)))))'"
      ]
     },
     "execution_count": 76,
     "metadata": {},
     "output_type": "execute_result"
    }
   ],
   "source": [
    "str(parse_tree)"
   ]
  },
  {
   "cell_type": "code",
   "execution_count": null,
   "id": "stock-brass",
   "metadata": {},
   "outputs": [],
   "source": [
    "parse_tree."
   ]
  },
  {
   "cell_type": "code",
   "execution_count": null,
   "id": "greenhouse-manchester",
   "metadata": {},
   "outputs": [],
   "source": []
  },
  {
   "cell_type": "code",
   "execution_count": 88,
   "id": "contemporary-holocaust",
   "metadata": {
    "tags": []
   },
   "outputs": [],
   "source": [
    "productions_seq = parse_tree.productions()"
   ]
  },
  {
   "cell_type": "code",
   "execution_count": 83,
   "id": "patent-socket",
   "metadata": {},
   "outputs": [],
   "source": [
    "productions = GCFG.productions()"
   ]
  },
  {
   "cell_type": "code",
   "execution_count": 84,
   "id": "worldwide-surface",
   "metadata": {},
   "outputs": [
    {
     "data": {
      "text/plain": [
       "[smiles -> chain,\n",
       " atom -> bracket_atom,\n",
       " atom -> aliphatic_organic,\n",
       " atom -> aromatic_organic,\n",
       " aliphatic_organic -> 'B',\n",
       " aliphatic_organic -> 'C',\n",
       " aliphatic_organic -> 'N',\n",
       " aliphatic_organic -> 'O',\n",
       " aliphatic_organic -> 'S',\n",
       " aliphatic_organic -> 'P',\n",
       " aliphatic_organic -> 'F',\n",
       " aliphatic_organic -> 'I',\n",
       " aliphatic_organic -> 'Cl',\n",
       " aliphatic_organic -> 'Br',\n",
       " aromatic_organic -> 'c',\n",
       " aromatic_organic -> 'n',\n",
       " aromatic_organic -> 'o',\n",
       " aromatic_organic -> 's',\n",
       " bracket_atom -> '[' BAI ']',\n",
       " BAI -> isotope symbol BAC,\n",
       " BAI -> symbol BAC,\n",
       " BAI -> isotope symbol,\n",
       " BAI -> symbol,\n",
       " BAC -> chiral BAH,\n",
       " BAC -> BAH,\n",
       " BAC -> chiral,\n",
       " BAH -> hcount BACH,\n",
       " BAH -> BACH,\n",
       " BAH -> hcount,\n",
       " BACH -> charge,\n",
       " symbol -> aliphatic_organic,\n",
       " symbol -> aromatic_organic,\n",
       " isotope -> DIGIT,\n",
       " isotope -> DIGIT DIGIT,\n",
       " isotope -> DIGIT DIGIT DIGIT,\n",
       " DIGIT -> '1',\n",
       " DIGIT -> '2',\n",
       " DIGIT -> '3',\n",
       " DIGIT -> '4',\n",
       " DIGIT -> '5',\n",
       " DIGIT -> '6',\n",
       " DIGIT -> '7',\n",
       " DIGIT -> '8',\n",
       " chiral -> '@',\n",
       " chiral -> '@@',\n",
       " hcount -> 'H',\n",
       " hcount -> 'H' DIGIT,\n",
       " charge -> '-',\n",
       " charge -> '-' DIGIT,\n",
       " charge -> '-' DIGIT DIGIT,\n",
       " charge -> '+',\n",
       " charge -> '+' DIGIT,\n",
       " charge -> '+' DIGIT DIGIT,\n",
       " bond -> '-',\n",
       " bond -> '=',\n",
       " bond -> '#',\n",
       " bond -> '/',\n",
       " bond -> '\\\\',\n",
       " ringbond -> DIGIT,\n",
       " ringbond -> bond DIGIT,\n",
       " branched_atom -> atom,\n",
       " branched_atom -> atom RB,\n",
       " branched_atom -> atom BB,\n",
       " branched_atom -> atom RB BB,\n",
       " RB -> RB ringbond,\n",
       " RB -> ringbond,\n",
       " BB -> BB branch,\n",
       " BB -> branch,\n",
       " branch -> '(' chain ')',\n",
       " branch -> '(' bond chain ')',\n",
       " chain -> branched_atom,\n",
       " chain -> chain branched_atom,\n",
       " chain -> chain bond branched_atom,\n",
       " Nothing -> None]"
      ]
     },
     "execution_count": 84,
     "metadata": {},
     "output_type": "execute_result"
    }
   ],
   "source": [
    "productions"
   ]
  },
  {
   "cell_type": "code",
   "execution_count": 85,
   "id": "prepared-phenomenon",
   "metadata": {},
   "outputs": [],
   "source": [
    "prod_map = {}\n",
    "for ix, prod in enumerate(productions):\n",
    "    prod_map[prod] = ix"
   ]
  },
  {
   "cell_type": "code",
   "execution_count": 86,
   "id": "recognized-potential",
   "metadata": {},
   "outputs": [
    {
     "data": {
      "text/plain": [
       "{smiles -> chain: 0,\n",
       " atom -> bracket_atom: 1,\n",
       " atom -> aliphatic_organic: 2,\n",
       " atom -> aromatic_organic: 3,\n",
       " aliphatic_organic -> 'B': 4,\n",
       " aliphatic_organic -> 'C': 5,\n",
       " aliphatic_organic -> 'N': 6,\n",
       " aliphatic_organic -> 'O': 7,\n",
       " aliphatic_organic -> 'S': 8,\n",
       " aliphatic_organic -> 'P': 9,\n",
       " aliphatic_organic -> 'F': 10,\n",
       " aliphatic_organic -> 'I': 11,\n",
       " aliphatic_organic -> 'Cl': 12,\n",
       " aliphatic_organic -> 'Br': 13,\n",
       " aromatic_organic -> 'c': 14,\n",
       " aromatic_organic -> 'n': 15,\n",
       " aromatic_organic -> 'o': 16,\n",
       " aromatic_organic -> 's': 17,\n",
       " bracket_atom -> '[' BAI ']': 18,\n",
       " BAI -> isotope symbol BAC: 19,\n",
       " BAI -> symbol BAC: 20,\n",
       " BAI -> isotope symbol: 21,\n",
       " BAI -> symbol: 22,\n",
       " BAC -> chiral BAH: 23,\n",
       " BAC -> BAH: 24,\n",
       " BAC -> chiral: 25,\n",
       " BAH -> hcount BACH: 26,\n",
       " BAH -> BACH: 27,\n",
       " BAH -> hcount: 28,\n",
       " BACH -> charge: 29,\n",
       " symbol -> aliphatic_organic: 30,\n",
       " symbol -> aromatic_organic: 31,\n",
       " isotope -> DIGIT: 32,\n",
       " isotope -> DIGIT DIGIT: 33,\n",
       " isotope -> DIGIT DIGIT DIGIT: 34,\n",
       " DIGIT -> '1': 35,\n",
       " DIGIT -> '2': 36,\n",
       " DIGIT -> '3': 37,\n",
       " DIGIT -> '4': 38,\n",
       " DIGIT -> '5': 39,\n",
       " DIGIT -> '6': 40,\n",
       " DIGIT -> '7': 41,\n",
       " DIGIT -> '8': 42,\n",
       " chiral -> '@': 43,\n",
       " chiral -> '@@': 44,\n",
       " hcount -> 'H': 45,\n",
       " hcount -> 'H' DIGIT: 46,\n",
       " charge -> '-': 47,\n",
       " charge -> '-' DIGIT: 48,\n",
       " charge -> '-' DIGIT DIGIT: 49,\n",
       " charge -> '+': 50,\n",
       " charge -> '+' DIGIT: 51,\n",
       " charge -> '+' DIGIT DIGIT: 52,\n",
       " bond -> '-': 53,\n",
       " bond -> '=': 54,\n",
       " bond -> '#': 55,\n",
       " bond -> '/': 56,\n",
       " bond -> '\\\\': 57,\n",
       " ringbond -> DIGIT: 58,\n",
       " ringbond -> bond DIGIT: 59,\n",
       " branched_atom -> atom: 60,\n",
       " branched_atom -> atom RB: 61,\n",
       " branched_atom -> atom BB: 62,\n",
       " branched_atom -> atom RB BB: 63,\n",
       " RB -> RB ringbond: 64,\n",
       " RB -> ringbond: 65,\n",
       " BB -> BB branch: 66,\n",
       " BB -> branch: 67,\n",
       " branch -> '(' chain ')': 68,\n",
       " branch -> '(' bond chain ')': 69,\n",
       " chain -> branched_atom: 70,\n",
       " chain -> chain branched_atom: 71,\n",
       " chain -> chain bond branched_atom: 72,\n",
       " Nothing -> None: 73}"
      ]
     },
     "execution_count": 86,
     "metadata": {},
     "output_type": "execute_result"
    }
   ],
   "source": [
    "prod_map"
   ]
  },
  {
   "cell_type": "code",
   "execution_count": 89,
   "id": "excess-stock",
   "metadata": {},
   "outputs": [
    {
     "name": "stdout",
     "output_type": "stream",
     "text": [
      "[ 0 71 71 72 71 72 71 72 71 71 71 70 60  2  5 62  2  5 67 69 54 70 60  2\n",
      "  7 60  2  7 61  2  5 65 58 35 54 60  2  5 60  2  5 54 60  2  5 60  2  5\n",
      " 54 61  2  5 65 58 35 62  2  5 67 69 54 70 60  2  7 60  2  7]\n"
     ]
    }
   ],
   "source": [
    "indices = np.array([prod_map[prod] for prod in productions_seq], dtype=int)\n",
    "print(indices)"
   ]
  },
  {
   "cell_type": "code",
   "execution_count": 90,
   "id": "floating-athletics",
   "metadata": {},
   "outputs": [
    {
     "data": {
      "text/plain": [
       "68"
      ]
     },
     "execution_count": 90,
     "metadata": {},
     "output_type": "execute_result"
    }
   ],
   "source": [
    "len(indices)"
   ]
  },
  {
   "cell_type": "code",
   "execution_count": 91,
   "id": "fundamental-values",
   "metadata": {},
   "outputs": [
    {
     "data": {
      "text/plain": [
       "array([ 0, 71, 71, 72, 71, 72, 71, 72, 71, 71, 71, 70, 60,  2,  5, 62,  2,\n",
       "        5, 67, 69, 54, 70, 60,  2,  7, 60,  2,  7, 61,  2,  5, 65, 58, 35,\n",
       "       54, 60,  2,  5, 60,  2,  5, 54, 60,  2,  5, 60,  2,  5, 54, 61,  2,\n",
       "        5, 65, 58, 35, 62,  2,  5, 67, 69, 54, 70, 60,  2,  7, 60,  2,  7])"
      ]
     },
     "execution_count": 91,
     "metadata": {},
     "output_type": "execute_result"
    }
   ],
   "source": [
    "indices"
   ]
  },
  {
   "cell_type": "code",
   "execution_count": null,
   "id": "biological-auditor",
   "metadata": {},
   "outputs": [],
   "source": [
    "gene = []\n",
    "for r in prod_rules:"
   ]
  },
  {
   "cell_type": "code",
   "execution_count": 95,
   "id": "behind-consultancy",
   "metadata": {},
   "outputs": [
    {
     "data": {
      "text/plain": [
       "aliphatic_organic -> 'F'"
      ]
     },
     "execution_count": 95,
     "metadata": {},
     "output_type": "execute_result"
    }
   ],
   "source": [
    "productions[10]"
   ]
  },
  {
   "cell_type": "code",
   "execution_count": 96,
   "id": "proprietary-border",
   "metadata": {},
   "outputs": [
    {
     "data": {
      "text/plain": [
       "aliphatic_organic"
      ]
     },
     "execution_count": 96,
     "metadata": {},
     "output_type": "execute_result"
    }
   ],
   "source": [
    "productions[10].lhs()"
   ]
  },
  {
   "cell_type": "code",
   "execution_count": 99,
   "id": "cubic-yield",
   "metadata": {},
   "outputs": [
    {
     "name": "stdout",
     "output_type": "stream",
     "text": [
      "0 smiles -> chain\n",
      "1 atom -> bracket_atom\n",
      "2 atom -> aliphatic_organic\n",
      "3 atom -> aromatic_organic\n",
      "4 aliphatic_organic -> 'B'\n",
      "5 aliphatic_organic -> 'C'\n",
      "6 aliphatic_organic -> 'N'\n",
      "7 aliphatic_organic -> 'O'\n",
      "8 aliphatic_organic -> 'S'\n",
      "9 aliphatic_organic -> 'P'\n"
     ]
    }
   ],
   "source": [
    "for idx, rule in enumerate(productions[:10]):\n",
    "    print(idx,rule)"
   ]
  },
  {
   "cell_type": "code",
   "execution_count": null,
   "id": "great-blocking",
   "metadata": {},
   "outputs": [],
   "source": [
    "gene = []\n",
    "    for r in prod_rules:\n",
    "        lhs = GCFG.productions()[r].lhs()\n",
    "        possible_rules = [idx for idx, rule in enumerate(GCFG.productions())\n",
    "                          if rule.lhs() == lhs]\n",
    "        gene.append(possible_rules.index(r))"
   ]
  },
  {
   "cell_type": "code",
   "execution_count": null,
   "id": "productive-dayton",
   "metadata": {},
   "outputs": [],
   "source": [
    "def CFGtoGene(prod_rules, max_len=-1):\n",
    "    gene = []\n",
    "    for r in prod_rules:\n",
    "        lhs = GCFG.productions()[r].lhs()\n",
    "        possible_rules = [idx for idx, rule in enumerate(GCFG.productions())\n",
    "                          if rule.lhs() == lhs]\n",
    "        gene.append(possible_rules.index(r))\n",
    "    if max_len > 0:\n",
    "        if len(gene) > max_len:\n",
    "            gene = gene[:max_len]\n",
    "        else:\n",
    "            gene = gene + [np.random.randint(0, 256)\n",
    "                           for _ in range(max_len-len(gene))]\n",
    "    return gene"
   ]
  },
  {
   "cell_type": "code",
   "execution_count": 101,
   "id": "addressed-sponsorship",
   "metadata": {},
   "outputs": [
    {
     "data": {
      "text/plain": [
       "300"
      ]
     },
     "execution_count": 101,
     "metadata": {},
     "output_type": "execute_result"
    }
   ],
   "source": [
    "len(initial_smiles)"
   ]
  },
  {
   "cell_type": "code",
   "execution_count": null,
   "id": "continental-binding",
   "metadata": {},
   "outputs": [],
   "source": []
  }
 ],
 "metadata": {
  "kernelspec": {
   "display_name": "Python 3",
   "language": "python",
   "name": "python3"
  },
  "language_info": {
   "codemirror_mode": {
    "name": "ipython",
    "version": 3
   },
   "file_extension": ".py",
   "mimetype": "text/x-python",
   "name": "python",
   "nbconvert_exporter": "python",
   "pygments_lexer": "ipython3",
   "version": "3.8.3"
  }
 },
 "nbformat": 4,
 "nbformat_minor": 5
}
