{
 "cells": [
  {
   "cell_type": "code",
   "execution_count": 1,
   "id": "0bc27be4",
   "metadata": {},
   "outputs": [],
   "source": [
    "from rdkit import rdBase, Chem\n",
    "from rdkit.Chem import AllChem, Draw, PandasTools, Descriptors\n",
    "from rdkit.Chem.Draw import IPythonConsole\n",
    "import numpy as np\n",
    "import matplotlib.pyplot as plt\n",
    "import seaborn as sns\n",
    "%matplotlib inline\n",
    "sns.set()\n",
    "import pandas as pd\n",
    "import statsmodels.api as sm\n",
    "import statsmodels.formula.api as smf\n",
    "import statsmodels\n",
    "import urllib.request \n",
    "url = 'https://raw.githubusercontent.com/HIPS/neural-fingerprint/master/data/2015-05-24-delaney/ci034243xsi20040112_053635.txt'\n",
    "urllib.request.urlretrieve(url, 'water_solubility.txt') \n",
    "df = pd.read_csv('water_solubility.txt', sep=',') \n",
    "PandasTools.AddMoleculeColumnToFrame(frame=df, smilesCol='smiles')\n",
    "df.columns = ['ID', 'm_sol', 'p_sol', 'SMILES', 'ROMol']\n",
    "\n"
   ]
  },
  {
   "cell_type": "code",
   "execution_count": 2,
   "id": "d7b4337b",
   "metadata": {},
   "outputs": [],
   "source": [
    "mols = [Chem.MolFromSmiles(i) for i in df['SMILES']]\n",
    "\n",
    "maccskeys = []\n",
    "for m in mols:\n",
    "    maccskey = [x for x in AllChem.GetMACCSKeysFingerprint(m)]\n",
    "    maccskeys.append(maccskey)\n",
    "X = np.array(maccskeys)\n",
    "y = df['m_sol']"
   ]
  },
  {
   "cell_type": "code",
   "execution_count": 3,
   "id": "38fa7bcb",
   "metadata": {},
   "outputs": [
    {
     "data": {
      "text/plain": [
       "0.3694205637413728"
      ]
     },
     "execution_count": 3,
     "metadata": {},
     "output_type": "execute_result"
    }
   ],
   "source": [
    "\n",
    "\n",
    "from sklearn.ensemble import RandomForestRegressor\n",
    "from sklearn.metrics import mean_absolute_error\n",
    "regr = RandomForestRegressor(n_estimators=100,random_state=0)\n",
    "regr.fit(X, y)\n",
    "mean_absolute_error(regr.predict(X),y)\n",
    "\n"
   ]
  },
  {
   "cell_type": "code",
   "execution_count": null,
   "id": "bf2c81b2",
   "metadata": {},
   "outputs": [],
   "source": []
  },
  {
   "cell_type": "code",
   "execution_count": 28,
   "id": "b9330e9f",
   "metadata": {},
   "outputs": [],
   "source": [
    "def logp_calc(x):\n",
    "    return regr.predict(x)"
   ]
  },
  {
   "cell_type": "code",
   "execution_count": 5,
   "id": "cbeeb2fa",
   "metadata": {},
   "outputs": [],
   "source": [
    "\n",
    "\n",
    "from numpy.random import randint\n",
    "from numpy.random import rand\n",
    "\n"
   ]
  },
  {
   "cell_type": "code",
   "execution_count": null,
   "id": "592c3fab",
   "metadata": {},
   "outputs": [],
   "source": []
  },
  {
   "cell_type": "code",
   "execution_count": 62,
   "id": "9ec19cfe",
   "metadata": {},
   "outputs": [
    {
     "data": {
      "text/plain": [
       "0.9749296772323556"
      ]
     },
     "execution_count": 62,
     "metadata": {},
     "output_type": "execute_result"
    }
   ],
   "source": [
    "rand()"
   ]
  },
  {
   "cell_type": "code",
   "execution_count": 63,
   "id": "d935cd10",
   "metadata": {},
   "outputs": [],
   "source": [
    "np.random.seed(233)\n",
    "def mutation(pop,r_mut):\n",
    "    for i in range(len(pop)):\n",
    "        if rand() > r_mut:\n",
    "            pop[i] = randint(0,2)\n",
    "    return pop\n"
   ]
  },
  {
   "cell_type": "code",
   "execution_count": 74,
   "id": "6bcbe09c",
   "metadata": {},
   "outputs": [
    {
     "data": {
      "text/plain": [
       "(10000, 167)"
      ]
     },
     "execution_count": 74,
     "metadata": {},
     "output_type": "execute_result"
    }
   ],
   "source": [
    "xcan = []\n",
    "for i in range(10000):\n",
    "    np.random.seed(i)\n",
    "    xcan.append([random.randint(0, 1) for p in range(167)])\n",
    "xcan = np.array(xcan)\n",
    "xcan.shape    "
   ]
  },
  {
   "cell_type": "code",
   "execution_count": 77,
   "id": "dc2aa1e1",
   "metadata": {},
   "outputs": [],
   "source": [
    "import random"
   ]
  },
  {
   "cell_type": "code",
   "execution_count": null,
   "id": "815107aa",
   "metadata": {},
   "outputs": [],
   "source": []
  },
  {
   "cell_type": "code",
   "execution_count": 208,
   "id": "2b9d8b7d",
   "metadata": {},
   "outputs": [],
   "source": [
    "class simulator(object):\n",
    "    def __init__(self, x):\n",
    "        self.t = -logp_calc(x)\n",
    "\n",
    "    def __call__( self, action):\n",
    "        return self.t[action]"
   ]
  },
  {
   "cell_type": "code",
   "execution_count": null,
   "id": "4a5cf0f9",
   "metadata": {},
   "outputs": [],
   "source": []
  },
  {
   "cell_type": "code",
   "execution_count": 217,
   "id": "efc073cb",
   "metadata": {},
   "outputs": [],
   "source": [
    "import physbo\n",
    "simu = simulator(xcan)\n",
    "\n",
    "policy = physbo.search.discrete.policy(test_X=xcan)\n",
    "policy.set_seed(0)"
   ]
  },
  {
   "cell_type": "code",
   "execution_count": 218,
   "id": "1115d127",
   "metadata": {
    "tags": []
   },
   "outputs": [
    {
     "name": "stdout",
     "output_type": "stream",
     "text": [
      "0001-th step: f(x) = 2.307077 (action=9394)\n",
      "   current best f(x) = 2.307077 (best action=9394) \n",
      "\n",
      "0002-th step: f(x) = 4.045877 (action=3583)\n",
      "   current best f(x) = 4.045877 (best action=3583) \n",
      "\n",
      "0003-th step: f(x) = 4.644623 (action=4358)\n",
      "   current best f(x) = 4.644623 (best action=4358) \n",
      "\n",
      "0004-th step: f(x) = 3.634893 (action=2991)\n",
      "   current best f(x) = 4.644623 (best action=4358) \n",
      "\n",
      "0005-th step: f(x) = 3.951923 (action=2323)\n",
      "   current best f(x) = 4.644623 (best action=4358) \n",
      "\n"
     ]
    }
   ],
   "source": [
    "res = policy.random_search(max_num_probes=5, simulator=simulator(xcan))"
   ]
  },
  {
   "cell_type": "code",
   "execution_count": null,
   "id": "2e491226",
   "metadata": {},
   "outputs": [],
   "source": []
  },
  {
   "cell_type": "code",
   "execution_count": 219,
   "id": "992e8398",
   "metadata": {},
   "outputs": [
    {
     "name": "stdout",
     "output_type": "stream",
     "text": [
      "Start the initial hyper parameter searching ...\n",
      "Done\n",
      "\n",
      "Start the hyper parameter learning ...\n",
      "0 -th epoch marginal likelihood 5.973744255704563\n",
      "50 -th epoch marginal likelihood 5.911119598787423\n",
      "100 -th epoch marginal likelihood 5.871459819719742\n",
      "150 -th epoch marginal likelihood 5.849656932241771\n",
      "200 -th epoch marginal likelihood 5.839271121890324\n",
      "250 -th epoch marginal likelihood 5.835026566315912\n",
      "300 -th epoch marginal likelihood 5.833545510633604\n",
      "350 -th epoch marginal likelihood 5.8331046241982785\n",
      "400 -th epoch marginal likelihood 5.832992540391977\n",
      "450 -th epoch marginal likelihood 5.832968185802832\n",
      "500 -th epoch marginal likelihood 5.832963664575456\n",
      "Done\n",
      "\n",
      "0006-th step: f(x) = 2.975433 (action=2265)\n",
      "   current best f(x) = 4.644623 (best action=4358) \n",
      "\n",
      "0007-th step: f(x) = 3.807606 (action=5403)\n",
      "   current best f(x) = 4.644623 (best action=4358) \n",
      "\n",
      "0008-th step: f(x) = 3.615812 (action=4499)\n",
      "   current best f(x) = 4.644623 (best action=4358) \n",
      "\n",
      "0009-th step: f(x) = 4.328649 (action=4227)\n",
      "   current best f(x) = 4.644623 (best action=4358) \n",
      "\n",
      "0010-th step: f(x) = 3.454812 (action=4677)\n",
      "   current best f(x) = 4.644623 (best action=4358) \n",
      "\n"
     ]
    }
   ],
   "source": [
    "res_TS = policy.bayes_search(max_num_probes=5, \n",
    "                             simulator=simulator(xcan), score='TS',\n",
    "                             interval=10, \n",
    "                             num_rand_basis=5000)"
   ]
  },
  {
   "cell_type": "code",
   "execution_count": null,
   "id": "9f8a6d9a",
   "metadata": {},
   "outputs": [],
   "source": []
  },
  {
   "cell_type": "code",
   "execution_count": 202,
   "id": "d9550a9d",
   "metadata": {},
   "outputs": [
    {
     "data": {
      "text/plain": [
       "array([9394, 3583, 4358, 2991, 2323, 4050, 3708,  505, 5163, 9198, 1304,\n",
       "       2988, 8424, 5710, 3382, 1634, 7774, 3007, 3087,  869, 8709, 1414,\n",
       "       9267, 1811, 3006, 2743, 4555, 5780, 9022, 8628, 2115, 9388,  387,\n",
       "       3516, 4440, 3601, 2380, 7514,  876,  918])"
      ]
     },
     "execution_count": 202,
     "metadata": {},
     "output_type": "execute_result"
    }
   ],
   "source": [
    "res_TS.chosen_actions[:40]"
   ]
  },
  {
   "cell_type": "code",
   "execution_count": 206,
   "id": "96830724",
   "metadata": {},
   "outputs": [
    {
     "data": {
      "text/plain": [
       "array([-3.40654908])"
      ]
     },
     "execution_count": 206,
     "metadata": {},
     "output_type": "execute_result"
    }
   ],
   "source": [
    "logp_calc(xcan[918].reshape(1, -1))"
   ]
  },
  {
   "cell_type": "code",
   "execution_count": 174,
   "id": "b9ea629f",
   "metadata": {},
   "outputs": [
    {
     "data": {
      "text/plain": [
       "(array([-2.30707667, -2.30707667, -2.30707667, -2.30707667, -2.30707667,\n",
       "        -2.30707667, -2.30707667, -2.30707667, -2.30707667, -2.30707667,\n",
       "        -2.30707667, -2.30707667, -2.30707667, -2.30707667, -2.30707667,\n",
       "        -2.30707667, -2.30707667, -2.30707667, -2.30707667, -2.30707667,\n",
       "        -2.30707667, -2.30707667, -2.30707667, -2.30707667, -2.30707667]),\n",
       " array([9394, 9394, 9394, 9394, 9394, 9394, 9394, 9394, 9394, 9394, 9394,\n",
       "        9394, 9394, 9394, 9394, 9394, 9394, 9394, 9394, 9394, 9394, 9394,\n",
       "        9394, 9394, 9394]))"
      ]
     },
     "execution_count": 174,
     "metadata": {},
     "output_type": "execute_result"
    }
   ],
   "source": [
    "res_TS.export_sequence_best_fx()"
   ]
  },
  {
   "cell_type": "code",
   "execution_count": 175,
   "id": "f4a0f6dc",
   "metadata": {},
   "outputs": [
    {
     "data": {
      "text/plain": [
       "(array([-2.30707667, -2.30707667, -2.30707667, -2.30707667, -2.30707667,\n",
       "        -2.30707667, -2.30707667, -2.30707667, -2.30707667, -2.30707667,\n",
       "        -2.30707667, -2.30707667, -2.30707667, -2.30707667, -2.30707667,\n",
       "        -2.30707667, -2.30707667, -2.30707667, -2.30707667, -2.30707667,\n",
       "        -2.30707667, -2.30707667, -2.30707667, -2.30707667, -2.30707667]),\n",
       " array([9394, 9394, 9394, 9394, 9394, 9394, 9394, 9394, 9394, 9394, 9394,\n",
       "        9394, 9394, 9394, 9394, 9394, 9394, 9394, 9394, 9394, 9394, 9394,\n",
       "        9394, 9394, 9394]))"
      ]
     },
     "execution_count": 175,
     "metadata": {},
     "output_type": "execute_result"
    }
   ],
   "source": [
    "res_TS.export_all_sequence_best_fx()"
   ]
  },
  {
   "cell_type": "code",
   "execution_count": 141,
   "id": "e4f620f2",
   "metadata": {},
   "outputs": [],
   "source": [
    "import matplotlib.pyplot as plt\n",
    "%matplotlib inline"
   ]
  },
  {
   "cell_type": "code",
   "execution_count": 169,
   "id": "4195f040",
   "metadata": {},
   "outputs": [
    {
     "data": {
      "text/plain": [
       "20"
      ]
     },
     "execution_count": 169,
     "metadata": {},
     "output_type": "execute_result"
    }
   ],
   "source": [
    "res.total_num_search"
   ]
  },
  {
   "cell_type": "code",
   "execution_count": 142,
   "id": "ebee67a8",
   "metadata": {},
   "outputs": [
    {
     "data": {
      "text/plain": [
       "[<matplotlib.lines.Line2D at 0x7f9b2e4d1b20>]"
      ]
     },
     "execution_count": 142,
     "metadata": {},
     "output_type": "execute_result"
    },
    {
     "data": {
      "image/png": "[encoded data removed]",
      "text/plain": [
       "<Figure size 432x288 with 1 Axes>"
      ]
     },
     "metadata": {
      "needs_background": "light"
     },
     "output_type": "display_data"
    }
   ],
   "source": [
    "plt.plot(res.fx[0:res.total_num_search])"
   ]
  },
  {
   "cell_type": "code",
   "execution_count": 160,
   "id": "688ca138",
   "metadata": {},
   "outputs": [
    {
     "data": {
      "text/plain": [
       "20"
      ]
     },
     "execution_count": 160,
     "metadata": {},
     "output_type": "execute_result"
    }
   ],
   "source": [
    "res.export_sequence_best_fx()[0]"
   ]
  },
  {
   "cell_type": "code",
   "execution_count": 163,
   "id": "157d202b",
   "metadata": {},
   "outputs": [
    {
     "data": {
      "text/plain": [
       "(array([-2.30707667, -2.30707667, -2.30707667, -2.30707667, -2.30707667,\n",
       "        -2.30707667, -2.30707667, -2.30707667, -2.30707667, -2.30707667,\n",
       "        -2.30707667, -2.30707667, -2.30707667, -2.30707667, -2.30707667,\n",
       "        -2.30707667, -2.30707667, -2.30707667, -2.30707667, -2.30707667]),\n",
       " array([9394, 9394, 9394, 9394, 9394, 9394, 9394, 9394, 9394, 9394, 9394,\n",
       "        9394, 9394, 9394, 9394, 9394, 9394, 9394, 9394, 9394]))"
      ]
     },
     "execution_count": 163,
     "metadata": {},
     "output_type": "execute_result"
    }
   ],
   "source": [
    "res.export_sequence_best_fx()"
   ]
  },
  {
   "cell_type": "code",
   "execution_count": 171,
   "id": "142d7d20",
   "metadata": {},
   "outputs": [],
   "source": [
    "res = physbo.search.discrete.results.history()"
   ]
  },
  {
   "cell_type": "code",
   "execution_count": 173,
   "id": "0db59dfc",
   "metadata": {},
   "outputs": [
    {
     "ename": "TypeError",
     "evalue": "'history' object is not callable",
     "output_type": "error",
     "traceback": [
      "\u001b[0;31m---------------------------------------------------------------------------\u001b[0m",
      "\u001b[0;31mTypeError\u001b[0m                                 Traceback (most recent call last)",
      "Input \u001b[0;32mIn [173]\u001b[0m, in \u001b[0;36m<cell line: 1>\u001b[0;34m()\u001b[0m\n\u001b[0;32m----> 1\u001b[0m \u001b[43mres\u001b[49m\u001b[43m(\u001b[49m\u001b[43m)\u001b[49m\n",
      "\u001b[0;31mTypeError\u001b[0m: 'history' object is not callable"
     ]
    }
   ],
   "source": [
    "res"
   ]
  },
  {
   "cell_type": "code",
   "execution_count": null,
   "id": "cc1ee569",
   "metadata": {},
   "outputs": [],
   "source": []
  }
 ],
 "metadata": {
  "kernelspec": {
   "display_name": "Python 3 (ipykernel)",
   "language": "python",
   "name": "python3"
  },
  "language_info": {
   "codemirror_mode": {
    "name": "ipython",
    "version": 3
   },
   "file_extension": ".py",
   "mimetype": "text/x-python",
   "name": "python",
   "nbconvert_exporter": "python",
   "pygments_lexer": "ipython3",
   "version": "3.8.10"
  }
 },
 "nbformat": 4,
 "nbformat_minor": 5
}
