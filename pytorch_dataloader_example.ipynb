{
 "cells": [
  {
   "cell_type": "code",
   "execution_count": 1,
   "id": "theoretical-terminal",
   "metadata": {},
   "outputs": [],
   "source": [
    "class Iterator(object):\n",
    "    def __init__(self):\n",
    "        self.count=0\n",
    "        \n",
    "    def __iter__(self):\n",
    "        return self\n",
    "    \n",
    "    def __next__(self):\n",
    "        if  self.count > 2:\n",
    "            raise StopIteration()\n",
    "            \n",
    "        self.count += 1\n",
    "        \n",
    "        return self.count"
   ]
  },
  {
   "cell_type": "code",
   "execution_count": 2,
   "id": "naughty-quick",
   "metadata": {},
   "outputs": [
    {
     "data": {
      "text/plain": [
       "<__main__.Iterator at 0x7fc71e963b50>"
      ]
     },
     "execution_count": 2,
     "metadata": {},
     "output_type": "execute_result"
    }
   ],
   "source": [
    "iterator = Iterator()\n",
    "iterator"
   ]
  },
  {
   "cell_type": "code",
   "execution_count": 3,
   "id": "latest-plane",
   "metadata": {},
   "outputs": [
    {
     "name": "stdout",
     "output_type": "stream",
     "text": [
      "count: 1\n",
      "count: 2\n",
      "count: 3\n"
     ]
    }
   ],
   "source": [
    "for c in iterator:\n",
    "    print('count:', c)"
   ]
  },
  {
   "cell_type": "code",
   "execution_count": 4,
   "id": "systematic-estimate",
   "metadata": {},
   "outputs": [
    {
     "name": "stderr",
     "output_type": "stream",
     "text": [
      "RDKit ERROR: [14:15:49] SMILES Parse Error: syntax error while parsing: NNC(=O)CNC(=O)\\C=N\\#N\n",
      "RDKit ERROR: [14:15:49] SMILES Parse Error: Failed parsing SMILES 'NNC(=O)CNC(=O)\\C=N\\#N' for input: 'NNC(=O)CNC(=O)\\C=N\\#N'\n",
      "RDKit ERROR: [14:15:49] SMILES Parse Error: syntax error while parsing: O=C1NC(=O)\\C(=N/#N)\\C=N1\n",
      "RDKit ERROR: [14:15:49] SMILES Parse Error: Failed parsing SMILES 'O=C1NC(=O)\\C(=N/#N)\\C=N1' for input: 'O=C1NC(=O)\\C(=N/#N)\\C=N1'\n",
      "RDKit ERROR: [14:15:49] SMILES Parse Error: syntax error while parsing: NC(=O)CNC(=O)\\C=N\\#N\n",
      "RDKit ERROR: [14:15:49] SMILES Parse Error: Failed parsing SMILES 'NC(=O)CNC(=O)\\C=N\\#N' for input: 'NC(=O)CNC(=O)\\C=N\\#N'\n",
      "RDKit ERROR: [14:15:49] SMILES Parse Error: syntax error while parsing: CCCCN(CC(O)C1=C\\C(=N/#N)\\C(=O)C=C1)N=O\n",
      "RDKit ERROR: [14:15:49] SMILES Parse Error: Failed parsing SMILES 'CCCCN(CC(O)C1=C\\C(=N/#N)\\C(=O)C=C1)N=O' for input: 'CCCCN(CC(O)C1=C\\C(=N/#N)\\C(=O)C=C1)N=O'\n",
      "RDKit ERROR: [14:15:49] SMILES Parse Error: syntax error while parsing: NC(COC(=O)\\C=N/#N)C(=O)O\n",
      "RDKit ERROR: [14:15:49] SMILES Parse Error: Failed parsing SMILES 'NC(COC(=O)\\C=N/#N)C(=O)O' for input: 'NC(COC(=O)\\C=N/#N)C(=O)O'\n",
      "RDKit ERROR: [14:15:49] SMILES Parse Error: syntax error while parsing: CCN(CC(O)C1=CC(=O)\\C(=N\\#N)\\C=C1)N=O\n",
      "RDKit ERROR: [14:15:49] SMILES Parse Error: Failed parsing SMILES 'CCN(CC(O)C1=CC(=O)\\C(=N\\#N)\\C=C1)N=O' for input: 'CCN(CC(O)C1=CC(=O)\\C(=N\\#N)\\C=C1)N=O'\n",
      "RDKit ERROR: [14:15:50] SMILES Parse Error: syntax error while parsing: NNC(=O)CNC(=O)\\C=N\\#N\n",
      "RDKit ERROR: [14:15:50] SMILES Parse Error: Failed parsing SMILES 'NNC(=O)CNC(=O)\\C=N\\#N' for input: 'NNC(=O)CNC(=O)\\C=N\\#N'\n",
      "RDKit ERROR: [14:15:50] SMILES Parse Error: syntax error while parsing: O=C1NC(=O)\\C(=N/#N)\\C=N1\n",
      "RDKit ERROR: [14:15:50] SMILES Parse Error: Failed parsing SMILES 'O=C1NC(=O)\\C(=N/#N)\\C=N1' for input: 'O=C1NC(=O)\\C(=N/#N)\\C=N1'\n",
      "RDKit ERROR: [14:15:50] SMILES Parse Error: syntax error while parsing: NC(=O)CNC(=O)\\C=N\\#N\n",
      "RDKit ERROR: [14:15:50] SMILES Parse Error: Failed parsing SMILES 'NC(=O)CNC(=O)\\C=N\\#N' for input: 'NC(=O)CNC(=O)\\C=N\\#N'\n",
      "RDKit ERROR: [14:15:50] SMILES Parse Error: syntax error while parsing: CCCCN(CC(O)C1=C\\C(=N/#N)\\C(=O)C=C1)N=O\n",
      "RDKit ERROR: [14:15:50] SMILES Parse Error: Failed parsing SMILES 'CCCCN(CC(O)C1=C\\C(=N/#N)\\C(=O)C=C1)N=O' for input: 'CCCCN(CC(O)C1=C\\C(=N/#N)\\C(=O)C=C1)N=O'\n",
      "RDKit ERROR: [14:15:50] SMILES Parse Error: syntax error while parsing: NC(COC(=O)\\C=N/#N)C(=O)O\n",
      "RDKit ERROR: [14:15:50] SMILES Parse Error: Failed parsing SMILES 'NC(COC(=O)\\C=N/#N)C(=O)O' for input: 'NC(COC(=O)\\C=N/#N)C(=O)O'\n",
      "RDKit ERROR: [14:15:50] SMILES Parse Error: syntax error while parsing: CCN(CC(O)C1=CC(=O)\\C(=N\\#N)\\C=C1)N=O\n",
      "RDKit ERROR: [14:15:50] SMILES Parse Error: Failed parsing SMILES 'CCN(CC(O)C1=CC(=O)\\C(=N\\#N)\\C=C1)N=O' for input: 'CCN(CC(O)C1=CC(=O)\\C(=N\\#N)\\C=C1)N=O'\n"
     ]
    }
   ],
   "source": [
    "import numpy as np\n",
    "import pandas as pd\n",
    "import urllib.request \n",
    "from rdkit import Chem\n",
    "from rdkit.Chem import AllChem, Draw, Descriptors, PandasTools\n",
    "from rdkit.ML.Descriptors import MoleculeDescriptors\n",
    "from sklearn.model_selection import train_test_split\n",
    "\n",
    "url = 'https://raw.githubusercontent.com/onecoinbuybus/Database_chemoinformatics/master/smiles_cas_N6512.smi'\n",
    "urllib.request.urlretrieve(url, 'ames.txt') \n",
    "df = pd.read_csv('ames.txt',header=None, sep='\\t') \n",
    "df.columns = ['smiles', 'CAS_NO', 'activity']\n",
    "PandasTools.AddMoleculeColumnToFrame(frame=df, smilesCol='smiles')\n",
    "\n",
    "none_list=[]\n",
    "for i in range(df.shape[0]):\n",
    "    if Chem.MolFromSmiles(df['smiles'][i]) is None:\n",
    "        none_list.append(i)\n",
    "        \n",
    "df=df.drop(none_list)\n",
    "mols=[Chem.MolFromSmiles(smile) for smile in df['smiles']]\n",
    "\n",
    "maccskeys = []\n",
    "for m in mols:\n",
    "    maccskey = [x for x in AllChem.GetMACCSKeysFingerprint(m)]\n",
    "    maccskeys.append(maccskey)\n",
    "    \n",
    "X = np.array(maccskeys)\n",
    "y=df['activity'].values.reshape(-1, 1)\n",
    "X.shape\n",
    "#(6506, 167)\n",
    "\n",
    "x_train, x_test, y_train, y_test = train_test_split(X, y, test_size=0.2)"
   ]
  },
  {
   "cell_type": "code",
   "execution_count": 5,
   "id": "uniform-mention",
   "metadata": {},
   "outputs": [
    {
     "data": {
      "text/plain": [
       "(5204, 167)"
      ]
     },
     "execution_count": 5,
     "metadata": {},
     "output_type": "execute_result"
    }
   ],
   "source": [
    "x_train.shape"
   ]
  },
  {
   "cell_type": "code",
   "execution_count": 6,
   "id": "balanced-bonus",
   "metadata": {},
   "outputs": [],
   "source": [
    "from sklearn.utils import shuffle\n",
    "from sklearn.metrics import accuracy_score\n",
    "import torch\n",
    "import torch.nn as nn\n",
    "import torch.optim as optimizers\n",
    "\n",
    "np.random.seed(369)\n",
    "torch.manual_seed(957)\n",
    "device = torch.device('cuda' if torch.cuda.is_available() else 'cpu')\n",
    "\n",
    "class MLP(nn.Module):\n",
    "    def __init__(self, input_dim, hidden_dim, output_dim):\n",
    "        super().__init__()\n",
    "        self.l1 = nn.Linear(input_dim, hidden_dim)\n",
    "        self.a1 = nn.ReLU()\n",
    "        self.l2 = nn.Linear(hidden_dim, output_dim)\n",
    "        self.a2 = nn.ReLU()\n",
    "\n",
    "        self.layers = [self.l1, self.a1, self.l2, self.a2]\n",
    "\n",
    "    def forward(self, x):\n",
    "        for layer in self.layers:\n",
    "            x = layer(x)\n",
    "\n",
    "        return x\n",
    "        return x"
   ]
  },
  {
   "cell_type": "code",
   "execution_count": 8,
   "id": "emotional-punch",
   "metadata": {},
   "outputs": [],
   "source": [
    "input_dim=x_train.shape[-1]\n",
    "hiden_dim = 64\n",
    "output_dim = 1"
   ]
  },
  {
   "cell_type": "code",
   "execution_count": 9,
   "id": "decent-packaging",
   "metadata": {},
   "outputs": [
    {
     "data": {
      "text/plain": [
       "MLP(\n",
       "  (l1): Linear(in_features=167, out_features=64, bias=True)\n",
       "  (a1): ReLU()\n",
       "  (l2): Linear(in_features=64, out_features=1, bias=True)\n",
       "  (a2): ReLU()\n",
       ")"
      ]
     },
     "execution_count": 9,
     "metadata": {},
     "output_type": "execute_result"
    }
   ],
   "source": [
    "model = MLP(input_dim, hiden_dim, output_dim).to(device)\n",
    "model"
   ]
  },
  {
   "cell_type": "code",
   "execution_count": 10,
   "id": "authentic-nursing",
   "metadata": {},
   "outputs": [],
   "source": [
    "criterion = nn.MSELoss()\n",
    "optimizer = optimizers.Adam(model.parameters(),\n",
    "                            lr=0.001,\n",
    "                            betas=(0.9, 0.999), amsgrad=True)"
   ]
  },
  {
   "cell_type": "code",
   "execution_count": 11,
   "id": "contemporary-platinum",
   "metadata": {},
   "outputs": [],
   "source": [
    "from sklearn.utils import shuffle\n",
    "import torch\n",
    "#from tensorflow.keras.preprocessing.sequence import pad_sequences\n",
    "\n",
    "\n",
    "class DataLoader(object):\n",
    "    def __init__(self, dataset,\n",
    "                 batch_size=100,\n",
    "                 shuffle=False,\n",
    "                 batch_first=False,\n",
    "                 device='cpu',\n",
    "                 random_state=None):\n",
    "        self.dataset = list(zip(dataset[0], dataset[1]))\n",
    "        self.batch_size = batch_size\n",
    "        self.shuffle = shuffle\n",
    "        self.batch_first = batch_first\n",
    "        self.device = device\n",
    "\n",
    "        if random_state is None:\n",
    "            random_state = np.random.RandomState(123)\n",
    "\n",
    "        self.random_state = random_state\n",
    "        self._idx = 0\n",
    "        self._reset()\n",
    "\n",
    "    def __len__(self):\n",
    "        N = len(self.dataset)\n",
    "        b = self.batch_size\n",
    "        return N // b + bool(N % b)\n",
    "\n",
    "    def __iter__(self):\n",
    "        return self\n",
    "\n",
    "    def __next__(self):\n",
    "        if self._idx >= len(self.dataset):\n",
    "            self._reset()\n",
    "            raise StopIteration()\n",
    "\n",
    "        x, t = zip(*self.dataset[self._idx:(self._idx + self.batch_size)])\n",
    "        \n",
    "#         x = pad_sequences(x, padding='post'), 需要时候加maxlen，从tf import\n",
    "#         t = pad_sequences(t, padding='post')\n",
    "\n",
    "        x = torch.Tensor(x).T #长sequence时候用LongTensor #tf用tf.convert_to_tensor(x, dtype=tf.float32)\n",
    "        t = torch.Tensor(t).T\n",
    "\n",
    "        if not self.batch_first:\n",
    "            x = x.t()\n",
    "            t = t.t()\n",
    "\n",
    "        self._idx += self.batch_size\n",
    "\n",
    "        return x.to(self.device), t.to(self.device)\n",
    "\n",
    "    def _reset(self):\n",
    "        if self.shuffle:\n",
    "            self.dataset = shuffle(self.dataset,\n",
    "                                   random_state=self.random_state)\n",
    "        self._idx = 0\n"
   ]
  },
  {
   "cell_type": "code",
   "execution_count": 12,
   "id": "olive-dispute",
   "metadata": {},
   "outputs": [],
   "source": [
    "train_dataloader = DataLoader((x_train, y_train),batch_first=False,device=device)\n",
    "val_dataloader = DataLoader((x_test, y_test),batch_first=False,device=device)"
   ]
  },
  {
   "cell_type": "code",
   "execution_count": 13,
   "id": "coordinated-baseline",
   "metadata": {},
   "outputs": [],
   "source": [
    "epochs = 5\n",
    "def compute_loss(t, y):\n",
    "        return criterion(y, t)\n",
    "\n",
    "def train_step(x, t):\n",
    "    model.train()\n",
    "    preds = model(x)\n",
    "    loss = compute_loss(t, preds)\n",
    "    optimizer.zero_grad()\n",
    "    loss.backward()\n",
    "    optimizer.step()\n",
    "    return loss\n"
   ]
  },
  {
   "cell_type": "code",
   "execution_count": 14,
   "id": "international-inclusion",
   "metadata": {},
   "outputs": [
    {
     "name": "stdout",
     "output_type": "stream",
     "text": [
      "---------- epoch: 1 ----------\n",
      "loss: 0.243\n",
      "---------- epoch: 2 ----------\n",
      "loss: 0.181\n",
      "---------- epoch: 3 ----------\n",
      "loss: 0.167\n",
      "---------- epoch: 4 ----------\n",
      "loss: 0.159\n",
      "---------- epoch: 5 ----------\n",
      "loss: 0.152\n"
     ]
    }
   ],
   "source": [
    "for epoch in range(epochs):\n",
    "    print('-' * 10, 'epoch: {}'.format(epoch+1),'-' * 10)\n",
    "    train_loss = 0.\n",
    "    for (x, y) in train_dataloader:\n",
    "        loss = train_step(x, y)\n",
    "        train_loss += loss.item()\n",
    "    train_loss /= len(train_dataloader)\n",
    "    print('loss: {:.3f}'.format(train_loss))\n",
    "        "
   ]
  },
  {
   "cell_type": "code",
   "execution_count": null,
   "id": "ceramic-launch",
   "metadata": {},
   "outputs": [],
   "source": []
  },
  {
   "cell_type": "code",
   "execution_count": null,
   "id": "affecting-danish",
   "metadata": {},
   "outputs": [],
   "source": []
  }
 ],
 "metadata": {
  "kernelspec": {
   "display_name": "Python 3",
   "language": "python",
   "name": "python3"
  },
  "language_info": {
   "codemirror_mode": {
    "name": "ipython",
    "version": 3
   },
   "file_extension": ".py",
   "mimetype": "text/x-python",
   "name": "python",
   "nbconvert_exporter": "python",
   "pygments_lexer": "ipython3",
   "version": "3.7.9"
  }
 },
 "nbformat": 4,
 "nbformat_minor": 5
}
