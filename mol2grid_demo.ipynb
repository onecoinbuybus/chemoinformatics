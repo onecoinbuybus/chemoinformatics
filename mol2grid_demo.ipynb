{
 "cells": [
  {
   "cell_type": "code",
   "execution_count": 2,
   "id": "express-killing",
   "metadata": {
    "collapsed": true,
    "jupyter": {
     "outputs_hidden": true
    },
    "tags": []
   },
   "outputs": [
    {
     "name": "stderr",
     "output_type": "stream",
     "text": [
      "RDKit ERROR: [11:21:14] SMILES Parse Error: syntax error while parsing: NNC(=O)CNC(=O)\\C=N\\#N\n",
      "RDKit ERROR: [11:21:14] SMILES Parse Error: Failed parsing SMILES 'NNC(=O)CNC(=O)\\C=N\\#N' for input: 'NNC(=O)CNC(=O)\\C=N\\#N'\n",
      "RDKit ERROR: [11:21:14] SMILES Parse Error: syntax error while parsing: O=C1NC(=O)\\C(=N/#N)\\C=N1\n",
      "RDKit ERROR: [11:21:14] SMILES Parse Error: Failed parsing SMILES 'O=C1NC(=O)\\C(=N/#N)\\C=N1' for input: 'O=C1NC(=O)\\C(=N/#N)\\C=N1'\n",
      "RDKit ERROR: [11:21:14] SMILES Parse Error: syntax error while parsing: NC(=O)CNC(=O)\\C=N\\#N\n",
      "RDKit ERROR: [11:21:14] SMILES Parse Error: Failed parsing SMILES 'NC(=O)CNC(=O)\\C=N\\#N' for input: 'NC(=O)CNC(=O)\\C=N\\#N'\n",
      "RDKit ERROR: [11:21:14] SMILES Parse Error: syntax error while parsing: CCCCN(CC(O)C1=C\\C(=N/#N)\\C(=O)C=C1)N=O\n",
      "RDKit ERROR: [11:21:14] SMILES Parse Error: Failed parsing SMILES 'CCCCN(CC(O)C1=C\\C(=N/#N)\\C(=O)C=C1)N=O' for input: 'CCCCN(CC(O)C1=C\\C(=N/#N)\\C(=O)C=C1)N=O'\n",
      "RDKit ERROR: [11:21:14] SMILES Parse Error: syntax error while parsing: NC(COC(=O)\\C=N/#N)C(=O)O\n",
      "RDKit ERROR: [11:21:14] SMILES Parse Error: Failed parsing SMILES 'NC(COC(=O)\\C=N/#N)C(=O)O' for input: 'NC(COC(=O)\\C=N/#N)C(=O)O'\n",
      "RDKit ERROR: [11:21:14] SMILES Parse Error: syntax error while parsing: CCN(CC(O)C1=CC(=O)\\C(=N\\#N)\\C=C1)N=O\n",
      "RDKit ERROR: [11:21:14] SMILES Parse Error: Failed parsing SMILES 'CCN(CC(O)C1=CC(=O)\\C(=N\\#N)\\C=C1)N=O' for input: 'CCN(CC(O)C1=CC(=O)\\C(=N\\#N)\\C=C1)N=O'\n",
      "RDKit ERROR: [11:21:15] SMILES Parse Error: syntax error while parsing: NNC(=O)CNC(=O)\\C=N\\#N\n",
      "RDKit ERROR: [11:21:15] SMILES Parse Error: Failed parsing SMILES 'NNC(=O)CNC(=O)\\C=N\\#N' for input: 'NNC(=O)CNC(=O)\\C=N\\#N'\n",
      "RDKit ERROR: [11:21:15] SMILES Parse Error: syntax error while parsing: O=C1NC(=O)\\C(=N/#N)\\C=N1\n",
      "RDKit ERROR: [11:21:15] SMILES Parse Error: Failed parsing SMILES 'O=C1NC(=O)\\C(=N/#N)\\C=N1' for input: 'O=C1NC(=O)\\C(=N/#N)\\C=N1'\n",
      "RDKit ERROR: [11:21:15] SMILES Parse Error: syntax error while parsing: NC(=O)CNC(=O)\\C=N\\#N\n",
      "RDKit ERROR: [11:21:15] SMILES Parse Error: Failed parsing SMILES 'NC(=O)CNC(=O)\\C=N\\#N' for input: 'NC(=O)CNC(=O)\\C=N\\#N'\n",
      "RDKit ERROR: [11:21:15] SMILES Parse Error: syntax error while parsing: CCCCN(CC(O)C1=C\\C(=N/#N)\\C(=O)C=C1)N=O\n",
      "RDKit ERROR: [11:21:15] SMILES Parse Error: Failed parsing SMILES 'CCCCN(CC(O)C1=C\\C(=N/#N)\\C(=O)C=C1)N=O' for input: 'CCCCN(CC(O)C1=C\\C(=N/#N)\\C(=O)C=C1)N=O'\n",
      "RDKit ERROR: [11:21:15] SMILES Parse Error: syntax error while parsing: NC(COC(=O)\\C=N/#N)C(=O)O\n",
      "RDKit ERROR: [11:21:15] SMILES Parse Error: Failed parsing SMILES 'NC(COC(=O)\\C=N/#N)C(=O)O' for input: 'NC(COC(=O)\\C=N/#N)C(=O)O'\n",
      "RDKit ERROR: [11:21:15] SMILES Parse Error: syntax error while parsing: CCN(CC(O)C1=CC(=O)\\C(=N\\#N)\\C=C1)N=O\n",
      "RDKit ERROR: [11:21:15] SMILES Parse Error: Failed parsing SMILES 'CCN(CC(O)C1=CC(=O)\\C(=N\\#N)\\C=C1)N=O' for input: 'CCN(CC(O)C1=CC(=O)\\C(=N\\#N)\\C=C1)N=O'\n"
     ]
    }
   ],
   "source": [
    "import numpy as np\n",
    "import pandas as pd\n",
    "import urllib.request \n",
    "from rdkit import Chem\n",
    "from rdkit.Chem import AllChem, Draw, Descriptors, PandasTools\n",
    "from rdkit.ML.Descriptors import MoleculeDescriptors\n",
    "from sklearn.model_selection import train_test_split\n",
    "\n",
    "url = 'https://raw.githubusercontent.com/onecoinbuybus/Database_chemoinformatics/master/smiles_cas_N6512.smi'\n",
    "urllib.request.urlretrieve(url, 'ames.txt') \n",
    "df = pd.read_csv('ames.txt',header=None, sep='\\t') \n",
    "df.columns = ['smiles', 'CAS_NO', 'activity']\n",
    "PandasTools.AddMoleculeColumnToFrame(frame=df, smilesCol='smiles')\n",
    "\n",
    "none_list=[]\n",
    "for i in range(df.shape[0]):\n",
    "    if Chem.MolFromSmiles(df['smiles'][i]) is None:\n",
    "        none_list.append(i)\n",
    "        \n",
    "df=df.drop(none_list)\n",
    "mols=[Chem.MolFromSmiles(smile) for smile in df['smiles']]"
   ]
  },
  {
   "cell_type": "code",
   "execution_count": 4,
   "id": "conceptual-eleven",
   "metadata": {},
   "outputs": [],
   "source": [
    "for mol in mols:\n",
    "    Chem.AddHs(mol)\n",
    "    AllChem.Compute2DCoords(mol)"
   ]
  },
  {
   "cell_type": "code",
   "execution_count": 11,
   "id": "numerous-decade",
   "metadata": {},
   "outputs": [],
   "source": [
    "writer = Chem.SDWriter(\"/Users/...../data/sdf_sample.sdf\")\n",
    "\n",
    "for (mol,cas,act) in zip(mols,df['CAS_NO'],df['activity']):\n",
    "    mol.SetProp(\"CAS_NO\",name)\n",
    "    mol.SetProp(\"activity\",str(act))\n",
    "    writer.write(mol)\n",
    "\n",
    "writer.close()"
   ]
  },
  {
   "cell_type": "code",
   "execution_count": 12,
   "id": "brown-amazon",
   "metadata": {},
   "outputs": [],
   "source": [
    "import mols2grid"
   ]
  },
  {
   "cell_type": "code",
   "execution_count": 18,
   "id": "expressed-blackberry",
   "metadata": {},
   "outputs": [],
   "source": [
    "# mols2grid.display(\"/Users/yweilin/Desktop/study/code/data/sdf_sample.sdf\",\n",
    "#                   # RDKit's MolDrawOptions parameters\n",
    "#                   fixedBondLength=25,\n",
    "#                   # rename fields for the output document\n",
    "# #                   mapping={\"activity\": \"act\"},\n",
    "#                   # set what's displayed on the grid\n",
    "#                   subset=[\"CAS_NO\", \"img\", \"activity\"],\n",
    "#                   # set what's displayed on the tooltips\n",
    "#                   tooltip=[\"activity\"],\n",
    "#                   style={\"activity\": lambda x: \"color: red\" if x == 0 else \"color: black\"})"
   ]
  },
  {
   "cell_type": "code",
   "execution_count": null,
   "id": "worthy-physics",
   "metadata": {},
   "outputs": [],
   "source": []
  }
 ],
 "metadata": {
  "kernelspec": {
   "display_name": "Python 3",
   "language": "python",
   "name": "python3"
  },
  "language_info": {
   "codemirror_mode": {
    "name": "ipython",
    "version": 3
   },
   "file_extension": ".py",
   "mimetype": "text/x-python",
   "name": "python",
   "nbconvert_exporter": "python",
   "pygments_lexer": "ipython3",
   "version": "3.8.3"
  }
 },
 "nbformat": 4,
 "nbformat_minor": 5
}
