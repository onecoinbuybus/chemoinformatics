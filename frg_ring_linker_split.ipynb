{
 "cells": [
  {
   "cell_type": "code",
   "execution_count": 1,
   "id": "japanese-hanging",
   "metadata": {},
   "outputs": [],
   "source": [
    "import copy\n",
    "from rdkit import Chem\n",
    "from rdkit.Chem.Scaffolds import MurckoScaffold\n",
    "from rdkit.Chem import Draw\n",
    "from rdkit.Chem.Draw import IPythonConsole\n",
    "from IPython.display import display\n",
    "from rdkit.Chem.Draw import rdMolDraw2D\n",
    "from IPython.display import SVG"
   ]
  },
  {
   "cell_type": "code",
   "execution_count": 2,
   "id": "smaller-steps",
   "metadata": {},
   "outputs": [
    {
     "data": {
      "image/png": "[encoded data removed]",
      "text/plain": [
       "<rdkit.Chem.rdchem.Mol at 0x7fbed08cddf0>"
      ]
     },
     "execution_count": 2,
     "metadata": {},
     "output_type": "execute_result"
    }
   ],
   "source": [
    "smi = 'CC(C)(C)C1=CC=C(C=C1)C(=O)CC(=O)C2=CC=C(C=C2)OC'\n",
    "mol_t = Chem.MolFromSmiles(smi)\n",
    "mol_t"
   ]
  },
  {
   "cell_type": "code",
   "execution_count": 16,
   "id": "brief-sucking",
   "metadata": {},
   "outputs": [],
   "source": [
    "for i in mol_t.GetAtoms():\n",
    "    i.SetIntProp(\"atom_idx\", i.GetIdx())\n",
    "for i in mol_t.GetBonds():\n",
    "    i.SetIntProp(\"bond_idx\", i.GetIdx())"
   ]
  },
  {
   "cell_type": "code",
   "execution_count": 17,
   "id": "successful-inspection",
   "metadata": {},
   "outputs": [
    {
     "data": {
      "image/png": "[encoded data removed]",
      "text/plain": [
       "<rdkit.Chem.rdchem.Mol at 0x7fbed0b214e0>"
      ]
     },
     "execution_count": 17,
     "metadata": {},
     "output_type": "execute_result"
    }
   ],
   "source": [
    "mol_s = MurckoScaffold.GetScaffoldForMol(mol_t)\n",
    "mol_s"
   ]
  },
  {
   "cell_type": "code",
   "execution_count": 18,
   "id": "challenging-senate",
   "metadata": {},
   "outputs": [
    {
     "data": {
      "image/svg+xml": [
       "<svg baseProfile=\"full\" height=\"300px\" version=\"1.1\" viewBox=\"0 0 300 300\" width=\"300px\" xml:space=\"preserve\" xmlns=\"http://www.w3.org/2000/svg\" xmlns:rdkit=\"http://www.rdkit.org/xml\" xmlns:xlink=\"http://www.w3.org/1999/xlink\">\n",
       "<!-- END OF HEADER -->\n",
       "<rect height=\"300\" style=\"opacity:1.0;fill:#FFFFFF;stroke:none\" width=\"300\" x=\"0\" y=\"0\"> </rect>\n",
       "<path class=\"bond-0\" d=\"M 25.3205,149.419 L 38.4952,174.278\" style=\"fill:none;fill-rule:evenodd;stroke:#000000;stroke-width:2px;stroke-linecap:butt;stroke-linejoin:miter;stroke-opacity:1\"/>\n",
       "<path class=\"bond-1\" d=\"M 38.4952,174.278 L 51.6698,199.137\" style=\"fill:none;fill-rule:evenodd;stroke:#000000;stroke-width:2px;stroke-linecap:butt;stroke-linejoin:miter;stroke-opacity:1\"/>\n",
       "<path class=\"bond-2\" d=\"M 38.4952,174.278 L 13.6364,187.452\" style=\"fill:none;fill-rule:evenodd;stroke:#000000;stroke-width:2px;stroke-linecap:butt;stroke-linejoin:miter;stroke-opacity:1\"/>\n",
       "<path class=\"bond-3\" d=\"M 38.4952,174.278 L 63.354,161.103\" style=\"fill:none;fill-rule:evenodd;stroke:#000000;stroke-width:2px;stroke-linecap:butt;stroke-linejoin:miter;stroke-opacity:1\"/>\n",
       "<path class=\"bond-4\" d=\"M 63.354,161.103 L 64.3738,132.987\" style=\"fill:none;fill-rule:evenodd;stroke:#000000;stroke-width:2px;stroke-linecap:butt;stroke-linejoin:miter;stroke-opacity:1\"/>\n",
       "<path class=\"bond-4\" d=\"M 69.1301,157.09 L 69.844,137.409\" style=\"fill:none;fill-rule:evenodd;stroke:#000000;stroke-width:2px;stroke-linecap:butt;stroke-linejoin:miter;stroke-opacity:1\"/>\n",
       "<path class=\"bond-22\" d=\"M 63.354,161.103 L 87.193,176.044\" style=\"fill:none;fill-rule:evenodd;stroke:#000000;stroke-width:2px;stroke-linecap:butt;stroke-linejoin:miter;stroke-opacity:1\"/>\n",
       "<path class=\"bond-5\" d=\"M 64.3738,132.987 L 89.2327,119.813\" style=\"fill:none;fill-rule:evenodd;stroke:#000000;stroke-width:2px;stroke-linecap:butt;stroke-linejoin:miter;stroke-opacity:1\"/>\n",
       "<path class=\"bond-6\" d=\"M 89.2327,119.813 L 113.072,134.754\" style=\"fill:none;fill-rule:evenodd;stroke:#000000;stroke-width:2px;stroke-linecap:butt;stroke-linejoin:miter;stroke-opacity:1\"/>\n",
       "<path class=\"bond-6\" d=\"M 89.8203,126.822 L 106.508,137.28\" style=\"fill:none;fill-rule:evenodd;stroke:#000000;stroke-width:2px;stroke-linecap:butt;stroke-linejoin:miter;stroke-opacity:1\"/>\n",
       "<path class=\"bond-7\" d=\"M 113.072,134.754 L 112.052,162.87\" style=\"fill:none;fill-rule:evenodd;stroke:#000000;stroke-width:2px;stroke-linecap:butt;stroke-linejoin:miter;stroke-opacity:1\"/>\n",
       "<path class=\"bond-9\" d=\"M 113.072,134.754 L 137.93,121.579\" style=\"fill:none;fill-rule:evenodd;stroke:#000000;stroke-width:2px;stroke-linecap:butt;stroke-linejoin:miter;stroke-opacity:1\"/>\n",
       "<path class=\"bond-8\" d=\"M 112.052,162.87 L 87.193,176.044\" style=\"fill:none;fill-rule:evenodd;stroke:#000000;stroke-width:2px;stroke-linecap:butt;stroke-linejoin:miter;stroke-opacity:1\"/>\n",
       "<path class=\"bond-8\" d=\"M 105.688,159.874 L 88.2869,169.096\" style=\"fill:none;fill-rule:evenodd;stroke:#000000;stroke-width:2px;stroke-linecap:butt;stroke-linejoin:miter;stroke-opacity:1\"/>\n",
       "<path class=\"bond-10\" d=\"M 140.742,121.681 L 141.167,109.968\" style=\"fill:none;fill-rule:evenodd;stroke:#000000;stroke-width:2px;stroke-linecap:butt;stroke-linejoin:miter;stroke-opacity:1\"/>\n",
       "<path class=\"bond-10\" d=\"M 141.167,109.968 L 141.592,98.2545\" style=\"fill:none;fill-rule:evenodd;stroke:#FF0000;stroke-width:2px;stroke-linecap:butt;stroke-linejoin:miter;stroke-opacity:1\"/>\n",
       "<path class=\"bond-10\" d=\"M 135.119,121.477 L 135.544,109.764\" style=\"fill:none;fill-rule:evenodd;stroke:#000000;stroke-width:2px;stroke-linecap:butt;stroke-linejoin:miter;stroke-opacity:1\"/>\n",
       "<path class=\"bond-10\" d=\"M 135.544,109.764 L 135.969,98.0506\" style=\"fill:none;fill-rule:evenodd;stroke:#FF0000;stroke-width:2px;stroke-linecap:butt;stroke-linejoin:miter;stroke-opacity:1\"/>\n",
       "<path class=\"bond-11\" d=\"M 137.93,121.579 L 161.769,136.52\" style=\"fill:none;fill-rule:evenodd;stroke:#000000;stroke-width:2px;stroke-linecap:butt;stroke-linejoin:miter;stroke-opacity:1\"/>\n",
       "<path class=\"bond-12\" d=\"M 161.769,136.52 L 186.628,123.346\" style=\"fill:none;fill-rule:evenodd;stroke:#000000;stroke-width:2px;stroke-linecap:butt;stroke-linejoin:miter;stroke-opacity:1\"/>\n",
       "<path class=\"bond-13\" d=\"M 189.44,123.448 L 189.865,111.734\" style=\"fill:none;fill-rule:evenodd;stroke:#000000;stroke-width:2px;stroke-linecap:butt;stroke-linejoin:miter;stroke-opacity:1\"/>\n",
       "<path class=\"bond-13\" d=\"M 189.865,111.734 L 190.29,100.021\" style=\"fill:none;fill-rule:evenodd;stroke:#FF0000;stroke-width:2px;stroke-linecap:butt;stroke-linejoin:miter;stroke-opacity:1\"/>\n",
       "<path class=\"bond-13\" d=\"M 183.817,123.244 L 184.242,111.53\" style=\"fill:none;fill-rule:evenodd;stroke:#000000;stroke-width:2px;stroke-linecap:butt;stroke-linejoin:miter;stroke-opacity:1\"/>\n",
       "<path class=\"bond-13\" d=\"M 184.242,111.53 L 184.666,99.817\" style=\"fill:none;fill-rule:evenodd;stroke:#FF0000;stroke-width:2px;stroke-linecap:butt;stroke-linejoin:miter;stroke-opacity:1\"/>\n",
       "<path class=\"bond-14\" d=\"M 186.628,123.346 L 210.467,138.287\" style=\"fill:none;fill-rule:evenodd;stroke:#000000;stroke-width:2px;stroke-linecap:butt;stroke-linejoin:miter;stroke-opacity:1\"/>\n",
       "<path class=\"bond-15\" d=\"M 210.467,138.287 L 209.447,166.402\" style=\"fill:none;fill-rule:evenodd;stroke:#000000;stroke-width:2px;stroke-linecap:butt;stroke-linejoin:miter;stroke-opacity:1\"/>\n",
       "<path class=\"bond-15\" d=\"M 215.937,142.708 L 215.224,162.389\" style=\"fill:none;fill-rule:evenodd;stroke:#000000;stroke-width:2px;stroke-linecap:butt;stroke-linejoin:miter;stroke-opacity:1\"/>\n",
       "<path class=\"bond-23\" d=\"M 210.467,138.287 L 235.326,125.112\" style=\"fill:none;fill-rule:evenodd;stroke:#000000;stroke-width:2px;stroke-linecap:butt;stroke-linejoin:miter;stroke-opacity:1\"/>\n",
       "<path class=\"bond-16\" d=\"M 209.447,166.402 L 233.286,181.343\" style=\"fill:none;fill-rule:evenodd;stroke:#000000;stroke-width:2px;stroke-linecap:butt;stroke-linejoin:miter;stroke-opacity:1\"/>\n",
       "<path class=\"bond-17\" d=\"M 233.286,181.343 L 258.145,168.169\" style=\"fill:none;fill-rule:evenodd;stroke:#000000;stroke-width:2px;stroke-linecap:butt;stroke-linejoin:miter;stroke-opacity:1\"/>\n",
       "<path class=\"bond-17\" d=\"M 234.38,174.395 L 251.781,165.173\" style=\"fill:none;fill-rule:evenodd;stroke:#000000;stroke-width:2px;stroke-linecap:butt;stroke-linejoin:miter;stroke-opacity:1\"/>\n",
       "<path class=\"bond-18\" d=\"M 258.145,168.169 L 259.165,140.053\" style=\"fill:none;fill-rule:evenodd;stroke:#000000;stroke-width:2px;stroke-linecap:butt;stroke-linejoin:miter;stroke-opacity:1\"/>\n",
       "<path class=\"bond-20\" d=\"M 258.145,168.169 L 267.875,174.267\" style=\"fill:none;fill-rule:evenodd;stroke:#000000;stroke-width:2px;stroke-linecap:butt;stroke-linejoin:miter;stroke-opacity:1\"/>\n",
       "<path class=\"bond-20\" d=\"M 267.875,174.267 L 277.605,180.365\" style=\"fill:none;fill-rule:evenodd;stroke:#FF0000;stroke-width:2px;stroke-linecap:butt;stroke-linejoin:miter;stroke-opacity:1\"/>\n",
       "<path class=\"bond-19\" d=\"M 259.165,140.053 L 235.326,125.112\" style=\"fill:none;fill-rule:evenodd;stroke:#000000;stroke-width:2px;stroke-linecap:butt;stroke-linejoin:miter;stroke-opacity:1\"/>\n",
       "<path class=\"bond-19\" d=\"M 252.601,142.58 L 235.914,132.121\" style=\"fill:none;fill-rule:evenodd;stroke:#000000;stroke-width:2px;stroke-linecap:butt;stroke-linejoin:miter;stroke-opacity:1\"/>\n",
       "<path class=\"bond-21\" d=\"M 281.814,187.799 L 281.389,199.512\" style=\"fill:none;fill-rule:evenodd;stroke:#FF0000;stroke-width:2px;stroke-linecap:butt;stroke-linejoin:miter;stroke-opacity:1\"/>\n",
       "<path class=\"bond-21\" d=\"M 281.389,199.512 L 280.964,211.226\" style=\"fill:none;fill-rule:evenodd;stroke:#000000;stroke-width:2px;stroke-linecap:butt;stroke-linejoin:miter;stroke-opacity:1\"/>\n",
       "<text dominant-baseline=\"central\" style=\"font-size:9px;font-style:normal;font-weight:normal;fill-opacity:1;stroke:none;font-family:sans-serif;fill:#FF0000\" text-anchor=\"start\" x=\"135.509\" y=\"94.8702\"><tspan>O</tspan></text>\n",
       "<text dominant-baseline=\"central\" style=\"font-size:9px;font-style:normal;font-weight:normal;fill-opacity:1;stroke:none;font-family:sans-serif;fill:#FF0000\" text-anchor=\"start\" x=\"184.206\" y=\"96.6366\"><tspan>O</tspan></text>\n",
       "<text dominant-baseline=\"central\" style=\"font-size:9px;font-style:normal;font-weight:normal;fill-opacity:1;stroke:none;font-family:sans-serif;fill:#FF0000\" text-anchor=\"start\" x=\"278.543\" y=\"184.517\"><tspan>O</tspan></text>\n",
       "<text dominant-baseline=\"central\" style=\"font-size:7px;font-style:normal;font-weight:normal;fill-opacity:1;stroke:none;font-family:sans-serif;fill:#000000\" text-anchor=\"middle\" x=\"26.9361\" y=\"165.538\"><tspan>0</tspan></text>\n",
       "<text dominant-baseline=\"central\" style=\"font-size:7px;font-style:normal;font-weight:normal;fill-opacity:1;stroke:none;font-family:sans-serif;fill:#000000\" text-anchor=\"middle\" x=\"40.1107\" y=\"190.397\"><tspan>1</tspan></text>\n",
       "<text dominant-baseline=\"central\" style=\"font-size:7px;font-style:normal;font-weight:normal;fill-opacity:1;stroke:none;font-family:sans-serif;fill:#000000\" text-anchor=\"middle\" x=\"30.0182\" y=\"189.378\"><tspan>2</tspan></text>\n",
       "<text dominant-baseline=\"central\" style=\"font-size:7px;font-style:normal;font-weight:normal;fill-opacity:1;stroke:none;font-family:sans-serif;fill:#000000\" text-anchor=\"middle\" x=\"54.877\" y=\"176.203\"><tspan>3</tspan></text>\n",
       "<text dominant-baseline=\"central\" style=\"font-size:7px;font-style:normal;font-weight:normal;fill-opacity:1;stroke:none;font-family:sans-serif;fill:#000000\" text-anchor=\"middle\" x=\"58.2408\" y=\"147.896\"><tspan>4</tspan></text>\n",
       "<text dominant-baseline=\"central\" style=\"font-size:7px;font-style:normal;font-weight:normal;fill-opacity:1;stroke:none;font-family:sans-serif;fill:#000000\" text-anchor=\"middle\" x=\"80.7556\" y=\"134.913\"><tspan>5</tspan></text>\n",
       "<text dominant-baseline=\"central\" style=\"font-size:7px;font-style:normal;font-weight:normal;fill-opacity:1;stroke:none;font-family:sans-serif;fill:#000000\" text-anchor=\"middle\" x=\"105.634\" y=\"121.187\"><tspan>6</tspan></text>\n",
       "<text dominant-baseline=\"central\" style=\"font-size:7px;font-style:normal;font-weight:normal;fill-opacity:1;stroke:none;font-family:sans-serif;fill:#000000\" text-anchor=\"middle\" x=\"106.939\" y=\"149.663\"><tspan>7</tspan></text>\n",
       "<text dominant-baseline=\"central\" style=\"font-size:7px;font-style:normal;font-weight:normal;fill-opacity:1;stroke:none;font-family:sans-serif;fill:#000000\" text-anchor=\"middle\" x=\"103.575\" y=\"177.97\"><tspan>8</tspan></text>\n",
       "<text dominant-baseline=\"central\" style=\"font-size:7px;font-style:normal;font-weight:normal;fill-opacity:1;stroke:none;font-family:sans-serif;fill:#000000\" text-anchor=\"middle\" x=\"129.453\" y=\"136.679\"><tspan>9</tspan></text>\n",
       "<text dominant-baseline=\"central\" style=\"font-size:7px;font-style:normal;font-weight:normal;fill-opacity:1;stroke:none;font-family:sans-serif;fill:#000000\" text-anchor=\"middle\" x=\"149.687\" y=\"108.984\"><tspan>10</tspan></text>\n",
       "<text dominant-baseline=\"central\" style=\"font-size:7px;font-style:normal;font-weight:normal;fill-opacity:1;stroke:none;font-family:sans-serif;fill:#000000\" text-anchor=\"middle\" x=\"145.368\" y=\"137.256\"><tspan>11</tspan></text>\n",
       "<text dominant-baseline=\"central\" style=\"font-size:7px;font-style:normal;font-weight:normal;fill-opacity:1;stroke:none;font-family:sans-serif;fill:#000000\" text-anchor=\"middle\" x=\"178.151\" y=\"138.446\"><tspan>12</tspan></text>\n",
       "<text dominant-baseline=\"central\" style=\"font-size:7px;font-style:normal;font-weight:normal;fill-opacity:1;stroke:none;font-family:sans-serif;fill:#000000\" text-anchor=\"middle\" x=\"198.384\" y=\"110.751\"><tspan>13</tspan></text>\n",
       "<text dominant-baseline=\"central\" style=\"font-size:7px;font-style:normal;font-weight:normal;fill-opacity:1;stroke:none;font-family:sans-serif;fill:#000000\" text-anchor=\"middle\" x=\"194.065\" y=\"139.023\"><tspan>14</tspan></text>\n",
       "<text dominant-baseline=\"central\" style=\"font-size:7px;font-style:normal;font-weight:normal;fill-opacity:1;stroke:none;font-family:sans-serif;fill:#000000\" text-anchor=\"middle\" x=\"201.523\" y=\"153.094\"><tspan>15</tspan></text>\n",
       "<text dominant-baseline=\"central\" style=\"font-size:7px;font-style:normal;font-weight:normal;fill-opacity:1;stroke:none;font-family:sans-serif;fill:#000000\" text-anchor=\"middle\" x=\"216.885\" y=\"182.08\"><tspan>16</tspan></text>\n",
       "<text dominant-baseline=\"central\" style=\"font-size:7px;font-style:normal;font-weight:normal;fill-opacity:1;stroke:none;font-family:sans-serif;fill:#000000\" text-anchor=\"middle\" x=\"249.668\" y=\"183.269\"><tspan>17</tspan></text>\n",
       "<text dominant-baseline=\"central\" style=\"font-size:7px;font-style:normal;font-weight:normal;fill-opacity:1;stroke:none;font-family:sans-serif;fill:#000000\" text-anchor=\"middle\" x=\"267.09\" y=\"155.472\"><tspan>18</tspan></text>\n",
       "<text dominant-baseline=\"central\" style=\"font-size:7px;font-style:normal;font-weight:normal;fill-opacity:1;stroke:none;font-family:sans-serif;fill:#000000\" text-anchor=\"middle\" x=\"251.728\" y=\"126.486\"><tspan>19</tspan></text>\n",
       "<text dominant-baseline=\"central\" style=\"font-size:7px;font-style:normal;font-weight:normal;fill-opacity:1;stroke:none;font-family:sans-serif;fill:#000000\" text-anchor=\"middle\" x=\"265.582\" y=\"183.846\"><tspan>20</tspan></text>\n",
       "<text dominant-baseline=\"central\" style=\"font-size:7px;font-style:normal;font-weight:normal;fill-opacity:1;stroke:none;font-family:sans-serif;fill:#000000\" text-anchor=\"middle\" x=\"273.04\" y=\"197.917\"><tspan>21</tspan></text>\n",
       "<text dominant-baseline=\"central\" style=\"font-size:7px;font-style:normal;font-weight:normal;fill-opacity:1;stroke:none;font-family:sans-serif;fill:#000000\" text-anchor=\"middle\" x=\"79.7558\" y=\"162.477\"><tspan>22</tspan></text>\n",
       "<text dominant-baseline=\"central\" style=\"font-size:7px;font-style:normal;font-weight:normal;fill-opacity:1;stroke:none;font-family:sans-serif;fill:#000000\" text-anchor=\"middle\" x=\"218.944\" y=\"125.297\"><tspan>23</tspan></text>\n",
       "</svg>"
      ],
      "text/plain": [
       "<IPython.core.display.SVG object>"
      ]
     },
     "execution_count": 18,
     "metadata": {},
     "output_type": "execute_result"
    }
   ],
   "source": [
    "d2d = rdMolDraw2D.MolDraw2DSVG(300,300)\n",
    "d2d.drawOptions().addBondIndices=True\n",
    "d2d.DrawMolecule(mol_t)\n",
    "d2d.FinishDrawing()\n",
    "SVG(d2d.GetDrawingText())"
   ]
  },
  {
   "cell_type": "code",
   "execution_count": 21,
   "id": "settled-testimony",
   "metadata": {},
   "outputs": [
    {
     "data": {
      "text/plain": [
       "((22, 8, 7, 6, 5, 4), (16, 17, 18, 19, 23, 15))"
      ]
     },
     "execution_count": 21,
     "metadata": {},
     "output_type": "execute_result"
    }
   ],
   "source": [
    "ringinfo = mol_t.GetRingInfo()\n",
    "bondrings = ring_info.BondRings()\n",
    "bondrings"
   ]
  },
  {
   "cell_type": "code",
   "execution_count": 30,
   "id": "visible-biology",
   "metadata": {},
   "outputs": [
    {
     "data": {
      "text/plain": [
       "[22, 8, 7, 6, 5, 4, 16, 17, 18, 19, 23, 15]"
      ]
     },
     "execution_count": 30,
     "metadata": {},
     "output_type": "execute_result"
    }
   ],
   "source": [
    "bondring_list = list(bondrings[0]+bondrings[1])\n",
    "bondring_list"
   ]
  },
  {
   "cell_type": "code",
   "execution_count": 32,
   "id": "complex-headline",
   "metadata": {},
   "outputs": [
    {
     "name": "stdout",
     "output_type": "stream",
     "text": [
      "[0, 1, 2, 3, 4, 5, 6, 7, 8, 9, 10, 11, 12, 13, 14, 15, 16, 17, 18, 19, 20, 21, 22, 23]\n"
     ]
    }
   ],
   "source": [
    "all_bonds_idx = [bond.GetIdx() for bond in mol_t.GetBonds()]\n",
    "print(all_bonds_idx)"
   ]
  },
  {
   "cell_type": "code",
   "execution_count": 37,
   "id": "finished-california",
   "metadata": {},
   "outputs": [
    {
     "data": {
      "text/plain": [
       "[0, 1, 2, 3, 9, 10, 11, 12, 13, 14, 20, 21]"
      ]
     },
     "execution_count": 37,
     "metadata": {},
     "output_type": "execute_result"
    }
   ],
   "source": [
    "none_ring_bonds_list = []\n",
    "for i in all_bonds_idx:\n",
    "    if i not in bondring_list:\n",
    "        none_ring_bonds_list.append(i)\n",
    "none_ring_bonds_list"
   ]
  },
  {
   "cell_type": "code",
   "execution_count": 41,
   "id": "characteristic-talent",
   "metadata": {},
   "outputs": [
    {
     "data": {
      "text/plain": [
       "1.5"
      ]
     },
     "execution_count": 41,
     "metadata": {},
     "output_type": "execute_result"
    }
   ],
   "source": [
    "mol_t.GetBondWithIdx(4).GetBondTypeAsDouble() "
   ]
  },
  {
   "cell_type": "code",
   "execution_count": 42,
   "id": "sought-austria",
   "metadata": {},
   "outputs": [
    {
     "data": {
      "text/plain": [
       "1.0"
      ]
     },
     "execution_count": 42,
     "metadata": {},
     "output_type": "execute_result"
    }
   ],
   "source": [
    "mol_t.GetBondWithIdx(3).GetBondTypeAsDouble() "
   ]
  },
  {
   "cell_type": "code",
   "execution_count": 45,
   "id": "cardiac-facial",
   "metadata": {},
   "outputs": [
    {
     "data": {
      "image/svg+xml": [
       "<svg baseProfile=\"full\" height=\"300px\" version=\"1.1\" viewBox=\"0 0 300 300\" width=\"300px\" xml:space=\"preserve\" xmlns=\"http://www.w3.org/2000/svg\" xmlns:rdkit=\"http://www.rdkit.org/xml\" xmlns:xlink=\"http://www.w3.org/1999/xlink\">\n",
       "<!-- END OF HEADER -->\n",
       "<rect height=\"300\" style=\"opacity:1.0;fill:#FFFFFF;stroke:none\" width=\"300\" x=\"0\" y=\"0\"> </rect>\n",
       "<path class=\"bond-0\" d=\"M 25.5896,149.775 L 38.7001,174.513\" style=\"fill:none;fill-rule:evenodd;stroke:#000000;stroke-width:2px;stroke-linecap:butt;stroke-linejoin:miter;stroke-opacity:1\"/>\n",
       "<path class=\"bond-1\" d=\"M 38.7001,174.513 L 51.8106,199.25\" style=\"fill:none;fill-rule:evenodd;stroke:#000000;stroke-width:2px;stroke-linecap:butt;stroke-linejoin:miter;stroke-opacity:1\"/>\n",
       "<path class=\"bond-2\" d=\"M 38.7001,174.513 L 13.9624,187.623\" style=\"fill:none;fill-rule:evenodd;stroke:#000000;stroke-width:2px;stroke-linecap:butt;stroke-linejoin:miter;stroke-opacity:1\"/>\n",
       "<path class=\"bond-3\" d=\"M 38.7001,174.513 L 63.4379,161.402\" style=\"fill:none;fill-rule:evenodd;stroke:#000000;stroke-width:2px;stroke-linecap:butt;stroke-linejoin:miter;stroke-opacity:1\"/>\n",
       "<path class=\"bond-4\" d=\"M 63.4379,161.402 L 64.4527,133.423\" style=\"fill:none;fill-rule:evenodd;stroke:#000000;stroke-width:2px;stroke-linecap:butt;stroke-linejoin:miter;stroke-opacity:1\"/>\n",
       "<path class=\"bond-4\" d=\"M 69.1858,157.408 L 69.8962,137.823\" style=\"fill:none;fill-rule:evenodd;stroke:#000000;stroke-width:2px;stroke-linecap:butt;stroke-linejoin:miter;stroke-opacity:1\"/>\n",
       "<path class=\"bond-22\" d=\"M 63.4379,161.402 L 87.1607,176.27\" style=\"fill:none;fill-rule:evenodd;stroke:#000000;stroke-width:2px;stroke-linecap:butt;stroke-linejoin:miter;stroke-opacity:1\"/>\n",
       "<path class=\"bond-5\" d=\"M 64.4527,133.423 L 89.1905,120.313\" style=\"fill:none;fill-rule:evenodd;stroke:#000000;stroke-width:2px;stroke-linecap:butt;stroke-linejoin:miter;stroke-opacity:1\"/>\n",
       "<path class=\"bond-6\" d=\"M 89.1905,120.313 L 112.913,135.181\" style=\"fill:none;fill-rule:evenodd;stroke:#000000;stroke-width:2px;stroke-linecap:butt;stroke-linejoin:miter;stroke-opacity:1\"/>\n",
       "<path class=\"bond-6\" d=\"M 89.7752,127.288 L 106.381,137.696\" style=\"fill:none;fill-rule:evenodd;stroke:#000000;stroke-width:2px;stroke-linecap:butt;stroke-linejoin:miter;stroke-opacity:1\"/>\n",
       "<path class=\"bond-7\" d=\"M 112.913,135.181 L 111.898,163.16\" style=\"fill:none;fill-rule:evenodd;stroke:#000000;stroke-width:2px;stroke-linecap:butt;stroke-linejoin:miter;stroke-opacity:1\"/>\n",
       "<path class=\"bond-9\" d=\"M 112.913,135.181 L 137.651,122.071\" style=\"fill:none;fill-rule:evenodd;stroke:#000000;stroke-width:2px;stroke-linecap:butt;stroke-linejoin:miter;stroke-opacity:1\"/>\n",
       "<path class=\"bond-8\" d=\"M 111.898,163.16 L 87.1607,176.27\" style=\"fill:none;fill-rule:evenodd;stroke:#000000;stroke-width:2px;stroke-linecap:butt;stroke-linejoin:miter;stroke-opacity:1\"/>\n",
       "<path class=\"bond-8\" d=\"M 105.566,160.179 L 88.2493,169.356\" style=\"fill:none;fill-rule:evenodd;stroke:#000000;stroke-width:2px;stroke-linecap:butt;stroke-linejoin:miter;stroke-opacity:1\"/>\n",
       "<path class=\"bond-10\" d=\"M 140.449,122.172 L 140.872,110.516\" style=\"fill:none;fill-rule:evenodd;stroke:#000000;stroke-width:2px;stroke-linecap:butt;stroke-linejoin:miter;stroke-opacity:1\"/>\n",
       "<path class=\"bond-10\" d=\"M 140.872,110.516 L 141.295,98.8597\" style=\"fill:none;fill-rule:evenodd;stroke:#FF0000;stroke-width:2px;stroke-linecap:butt;stroke-linejoin:miter;stroke-opacity:1\"/>\n",
       "<path class=\"bond-10\" d=\"M 134.853,121.969 L 135.276,110.313\" style=\"fill:none;fill-rule:evenodd;stroke:#000000;stroke-width:2px;stroke-linecap:butt;stroke-linejoin:miter;stroke-opacity:1\"/>\n",
       "<path class=\"bond-10\" d=\"M 135.276,110.313 L 135.699,98.6567\" style=\"fill:none;fill-rule:evenodd;stroke:#FF0000;stroke-width:2px;stroke-linecap:butt;stroke-linejoin:miter;stroke-opacity:1\"/>\n",
       "<path class=\"bond-11\" d=\"M 137.651,122.071 L 161.374,136.939\" style=\"fill:none;fill-rule:evenodd;stroke:#000000;stroke-width:2px;stroke-linecap:butt;stroke-linejoin:miter;stroke-opacity:1\"/>\n",
       "<path class=\"bond-12\" d=\"M 161.374,136.939 L 186.112,123.829\" style=\"fill:none;fill-rule:evenodd;stroke:#000000;stroke-width:2px;stroke-linecap:butt;stroke-linejoin:miter;stroke-opacity:1\"/>\n",
       "<path class=\"bond-13\" d=\"M 188.91,123.93 L 189.332,112.274\" style=\"fill:none;fill-rule:evenodd;stroke:#000000;stroke-width:2px;stroke-linecap:butt;stroke-linejoin:miter;stroke-opacity:1\"/>\n",
       "<path class=\"bond-13\" d=\"M 189.332,112.274 L 189.755,100.618\" style=\"fill:none;fill-rule:evenodd;stroke:#FF0000;stroke-width:2px;stroke-linecap:butt;stroke-linejoin:miter;stroke-opacity:1\"/>\n",
       "<path class=\"bond-13\" d=\"M 183.314,123.727 L 183.737,112.071\" style=\"fill:none;fill-rule:evenodd;stroke:#000000;stroke-width:2px;stroke-linecap:butt;stroke-linejoin:miter;stroke-opacity:1\"/>\n",
       "<path class=\"bond-13\" d=\"M 183.737,112.071 L 184.159,100.415\" style=\"fill:none;fill-rule:evenodd;stroke:#FF0000;stroke-width:2px;stroke-linecap:butt;stroke-linejoin:miter;stroke-opacity:1\"/>\n",
       "<path class=\"bond-14\" d=\"M 186.112,123.829 L 209.835,138.697\" style=\"fill:none;fill-rule:evenodd;stroke:#000000;stroke-width:2px;stroke-linecap:butt;stroke-linejoin:miter;stroke-opacity:1\"/>\n",
       "<path class=\"bond-15\" d=\"M 209.835,138.697 L 208.82,166.676\" style=\"fill:none;fill-rule:evenodd;stroke:#000000;stroke-width:2px;stroke-linecap:butt;stroke-linejoin:miter;stroke-opacity:1\"/>\n",
       "<path class=\"bond-15\" d=\"M 215.278,143.097 L 214.568,162.682\" style=\"fill:none;fill-rule:evenodd;stroke:#000000;stroke-width:2px;stroke-linecap:butt;stroke-linejoin:miter;stroke-opacity:1\"/>\n",
       "<path class=\"bond-23\" d=\"M 209.835,138.697 L 234.572,125.586\" style=\"fill:none;fill-rule:evenodd;stroke:#000000;stroke-width:2px;stroke-linecap:butt;stroke-linejoin:miter;stroke-opacity:1\"/>\n",
       "<path class=\"bond-16\" d=\"M 208.82,166.676 L 232.543,181.544\" style=\"fill:none;fill-rule:evenodd;stroke:#000000;stroke-width:2px;stroke-linecap:butt;stroke-linejoin:miter;stroke-opacity:1\"/>\n",
       "<path class=\"bond-17\" d=\"M 232.543,181.544 L 257.28,168.433\" style=\"fill:none;fill-rule:evenodd;stroke:#000000;stroke-width:2px;stroke-linecap:butt;stroke-linejoin:miter;stroke-opacity:1\"/>\n",
       "<path class=\"bond-17\" d=\"M 233.631,174.63 L 250.948,165.452\" style=\"fill:none;fill-rule:evenodd;stroke:#000000;stroke-width:2px;stroke-linecap:butt;stroke-linejoin:miter;stroke-opacity:1\"/>\n",
       "<path class=\"bond-18\" d=\"M 257.28,168.433 L 258.295,140.455\" style=\"fill:none;fill-rule:evenodd;stroke:#000000;stroke-width:2px;stroke-linecap:butt;stroke-linejoin:miter;stroke-opacity:1\"/>\n",
       "<path class=\"bond-20\" d=\"M 257.28,168.433 L 266.963,174.502\" style=\"fill:none;fill-rule:evenodd;stroke:#000000;stroke-width:2px;stroke-linecap:butt;stroke-linejoin:miter;stroke-opacity:1\"/>\n",
       "<path class=\"bond-20\" d=\"M 266.963,174.502 L 276.645,180.57\" style=\"fill:none;fill-rule:evenodd;stroke:#FF0000;stroke-width:2px;stroke-linecap:butt;stroke-linejoin:miter;stroke-opacity:1\"/>\n",
       "<path class=\"bond-19\" d=\"M 258.295,140.455 L 234.572,125.586\" style=\"fill:none;fill-rule:evenodd;stroke:#000000;stroke-width:2px;stroke-linecap:butt;stroke-linejoin:miter;stroke-opacity:1\"/>\n",
       "<path class=\"bond-19\" d=\"M 251.763,142.969 L 235.157,132.561\" style=\"fill:none;fill-rule:evenodd;stroke:#000000;stroke-width:2px;stroke-linecap:butt;stroke-linejoin:miter;stroke-opacity:1\"/>\n",
       "<path class=\"bond-21\" d=\"M 280.834,187.968 L 280.411,199.624\" style=\"fill:none;fill-rule:evenodd;stroke:#FF0000;stroke-width:2px;stroke-linecap:butt;stroke-linejoin:miter;stroke-opacity:1\"/>\n",
       "<path class=\"bond-21\" d=\"M 280.411,199.624 L 279.988,211.28\" style=\"fill:none;fill-rule:evenodd;stroke:#000000;stroke-width:2px;stroke-linecap:butt;stroke-linejoin:miter;stroke-opacity:1\"/>\n",
       "<text dominant-baseline=\"central\" style=\"font-size:9px;font-style:normal;font-weight:normal;fill-opacity:1;stroke:none;font-family:sans-serif;fill:#FF0000\" text-anchor=\"start\" x=\"135.241\" y=\"95.4919\"><tspan>O</tspan></text>\n",
       "<text dominant-baseline=\"central\" style=\"font-size:9px;font-style:normal;font-weight:normal;fill-opacity:1;stroke:none;font-family:sans-serif;fill:#FF0000\" text-anchor=\"start\" x=\"183.702\" y=\"97.2497\"><tspan>O</tspan></text>\n",
       "<text dominant-baseline=\"central\" style=\"font-size:9px;font-style:normal;font-weight:normal;fill-opacity:1;stroke:none;font-family:sans-serif;fill:#FF0000\" text-anchor=\"start\" x=\"277.578\" y=\"184.702\"><tspan>O</tspan></text>\n",
       "<text dominant-baseline=\"central\" style=\"font-size:6px;font-style:normal;font-weight:normal;fill-opacity:1;stroke:none;font-family:sans-serif;fill:#000000\" text-anchor=\"middle\" x=\"21.4667\" y=\"153.01\"><tspan>0</tspan></text>\n",
       "<text dominant-baseline=\"central\" style=\"font-size:6px;font-style:normal;font-weight:normal;fill-opacity:1;stroke:none;font-family:sans-serif;fill:#000000\" text-anchor=\"middle\" x=\"29.7792\" y=\"172.822\"><tspan>1</tspan></text>\n",
       "<text dominant-baseline=\"central\" style=\"font-size:6px;font-style:normal;font-weight:normal;fill-opacity:1;stroke:none;font-family:sans-serif;fill:#000000\" text-anchor=\"middle\" x=\"55.9335\" y=\"198.115\"><tspan>2</tspan></text>\n",
       "<text dominant-baseline=\"central\" style=\"font-size:6px;font-style:normal;font-weight:normal;fill-opacity:1;stroke:none;font-family:sans-serif;fill:#000000\" text-anchor=\"middle\" x=\"16.1475\" y=\"192.796\"><tspan>3</tspan></text>\n",
       "<text dominant-baseline=\"central\" style=\"font-size:6px;font-style:normal;font-weight:normal;fill-opacity:1;stroke:none;font-family:sans-serif;fill:#000000\" text-anchor=\"middle\" x=\"55.5302\" y=\"157.496\"><tspan>4</tspan></text>\n",
       "<text dominant-baseline=\"central\" style=\"font-size:6px;font-style:normal;font-weight:normal;fill-opacity:1;stroke:none;font-family:sans-serif;fill:#000000\" text-anchor=\"middle\" x=\"60.4989\" y=\"131.995\"><tspan>5</tspan></text>\n",
       "<text dominant-baseline=\"central\" style=\"font-size:6px;font-style:normal;font-weight:normal;fill-opacity:1;stroke:none;font-family:sans-serif;fill:#000000\" text-anchor=\"middle\" x=\"89.3596\" y=\"116.7\"><tspan>6</tspan></text>\n",
       "<text dominant-baseline=\"central\" style=\"font-size:6px;font-style:normal;font-weight:normal;fill-opacity:1;stroke:none;font-family:sans-serif;fill:#000000\" text-anchor=\"middle\" x=\"107.957\" y=\"144.139\"><tspan>7</tspan></text>\n",
       "<text dominant-baseline=\"central\" style=\"font-size:6px;font-style:normal;font-weight:normal;fill-opacity:1;stroke:none;font-family:sans-serif;fill:#000000\" text-anchor=\"middle\" x=\"115.852\" y=\"166.688\"><tspan>8</tspan></text>\n",
       "<text dominant-baseline=\"central\" style=\"font-size:6px;font-style:normal;font-weight:normal;fill-opacity:1;stroke:none;font-family:sans-serif;fill:#000000\" text-anchor=\"middle\" x=\"86.9916\" y=\"181.983\"><tspan>9</tspan></text>\n",
       "<text dominant-baseline=\"central\" style=\"font-size:6px;font-style:normal;font-weight:normal;fill-opacity:1;stroke:none;font-family:sans-serif;fill:#000000\" text-anchor=\"middle\" x=\"129.743\" y=\"118.165\"><tspan>10</tspan></text>\n",
       "<text dominant-baseline=\"central\" style=\"font-size:6px;font-style:normal;font-weight:normal;fill-opacity:1;stroke:none;font-family:sans-serif;fill:#000000\" text-anchor=\"middle\" x=\"139.004\" y=\"85.8157\"><tspan>11</tspan></text>\n",
       "<text dominant-baseline=\"central\" style=\"font-size:6px;font-style:normal;font-weight:normal;fill-opacity:1;stroke:none;font-family:sans-serif;fill:#000000\" text-anchor=\"middle\" x=\"161.205\" y=\"142.652\"><tspan>12</tspan></text>\n",
       "<text dominant-baseline=\"central\" style=\"font-size:6px;font-style:normal;font-weight:normal;fill-opacity:1;stroke:none;font-family:sans-serif;fill:#000000\" text-anchor=\"middle\" x=\"178.204\" y=\"119.922\"><tspan>13</tspan></text>\n",
       "<text dominant-baseline=\"central\" style=\"font-size:6px;font-style:normal;font-weight:normal;fill-opacity:1;stroke:none;font-family:sans-serif;fill:#000000\" text-anchor=\"middle\" x=\"187.465\" y=\"87.5735\"><tspan>14</tspan></text>\n",
       "<text dominant-baseline=\"central\" style=\"font-size:6px;font-style:normal;font-weight:normal;fill-opacity:1;stroke:none;font-family:sans-serif;fill:#000000\" text-anchor=\"middle\" x=\"201.589\" y=\"144.117\"><tspan>15</tspan></text>\n",
       "<text dominant-baseline=\"central\" style=\"font-size:6px;font-style:normal;font-weight:normal;fill-opacity:1;stroke:none;font-family:sans-serif;fill:#000000\" text-anchor=\"middle\" x=\"200.574\" y=\"172.096\"><tspan>16</tspan></text>\n",
       "<text dominant-baseline=\"central\" style=\"font-size:6px;font-style:normal;font-weight:normal;fill-opacity:1;stroke:none;font-family:sans-serif;fill:#000000\" text-anchor=\"middle\" x=\"232.373\" y=\"187.257\"><tspan>17</tspan></text>\n",
       "<text dominant-baseline=\"central\" style=\"font-size:6px;font-style:normal;font-weight:normal;fill-opacity:1;stroke:none;font-family:sans-serif;fill:#000000\" text-anchor=\"middle\" x=\"256.942\" y=\"178.81\"><tspan>18</tspan></text>\n",
       "<text dominant-baseline=\"central\" style=\"font-size:6px;font-style:normal;font-weight:normal;fill-opacity:1;stroke:none;font-family:sans-serif;fill:#000000\" text-anchor=\"middle\" x=\"266.541\" y=\"137.134\"><tspan>19</tspan></text>\n",
       "<text dominant-baseline=\"central\" style=\"font-size:6px;font-style:normal;font-weight:normal;fill-opacity:1;stroke:none;font-family:sans-serif;fill:#000000\" text-anchor=\"middle\" x=\"234.741\" y=\"121.973\"><tspan>20</tspan></text>\n",
       "<text dominant-baseline=\"central\" style=\"font-size:6px;font-style:normal;font-weight:normal;fill-opacity:1;stroke:none;font-family:sans-serif;fill:#000000\" text-anchor=\"middle\" x=\"281.341\" y=\"175.025\"><tspan>21</tspan></text>\n",
       "<text dominant-baseline=\"central\" style=\"font-size:6px;font-style:normal;font-weight:normal;fill-opacity:1;stroke:none;font-family:sans-serif;fill:#000000\" text-anchor=\"middle\" x=\"277.51\" y=\"216.284\"><tspan>22</tspan></text>\n",
       "</svg>"
      ],
      "text/plain": [
       "<IPython.core.display.SVG object>"
      ]
     },
     "execution_count": 45,
     "metadata": {},
     "output_type": "execute_result"
    }
   ],
   "source": [
    "d2d = rdMolDraw2D.MolDraw2DSVG(300,300)\n",
    "d2d.drawOptions().addAtomIndices=True\n",
    "d2d.DrawMolecule(mol_t)\n",
    "d2d.FinishDrawing()\n",
    "SVG(d2d.GetDrawingText())"
   ]
  },
  {
   "cell_type": "code",
   "execution_count": 46,
   "id": "political-converter",
   "metadata": {},
   "outputs": [
    {
     "data": {
      "text/plain": [
       "True"
      ]
     },
     "execution_count": 46,
     "metadata": {},
     "output_type": "execute_result"
    }
   ],
   "source": [
    "mol_t.GetAtomWithIdx(4).IsInRing()"
   ]
  },
  {
   "cell_type": "code",
   "execution_count": 47,
   "id": "eleven-vertex",
   "metadata": {},
   "outputs": [
    {
     "data": {
      "text/plain": [
       "False"
      ]
     },
     "execution_count": 47,
     "metadata": {},
     "output_type": "execute_result"
    }
   ],
   "source": [
    "mol_t.GetBondWithIdx(1).IsInRing()"
   ]
  },
  {
   "cell_type": "code",
   "execution_count": 60,
   "id": "everyday-trust",
   "metadata": {},
   "outputs": [],
   "source": [
    "cut_bonds = []\n",
    "for bond_idx in none_ring_bonds_list:\n",
    "    bgn_atom_idx = mol_t.GetBondWithIdx(bond_idx).GetBeginAtomIdx()\n",
    "    ebd_atom_idx = mol_t.GetBondWithIdx(bond_idx).GetEndAtomIdx()\n",
    "    if mol_t.GetBondWithIdx(bond_idx).GetBondTypeAsDouble() == 1.0:\n",
    "        if mol_t.GetAtomWithIdx(bgn_atom_idx).IsInRing()+mol_t.GetAtomWithIdx(ebd_atom_idx).IsInRing() == 1:\n",
    "            t_bond = mol_t.GetBondWithIdx(bond_idx)\n",
    "            t_bond_idx = t_bond.GetIntProp(\"bond_idx\")\n",
    "            cut_bonds.append(t_bond_idx)"
   ]
  },
  {
   "cell_type": "code",
   "execution_count": 61,
   "id": "vulnerable-nevada",
   "metadata": {},
   "outputs": [
    {
     "data": {
      "text/plain": [
       "[3, 9, 14, 20]"
      ]
     },
     "execution_count": 61,
     "metadata": {},
     "output_type": "execute_result"
    }
   ],
   "source": [
    "cut_bonds"
   ]
  },
  {
   "cell_type": "code",
   "execution_count": 62,
   "id": "metric-wednesday",
   "metadata": {},
   "outputs": [
    {
     "data": {
      "image/png": "[encoded data removed]",
      "text/plain": [
       "<rdkit.Chem.rdchem.Mol at 0x7fbed0bcf760>"
      ]
     },
     "execution_count": 62,
     "metadata": {},
     "output_type": "execute_result"
    }
   ],
   "source": [
    "res = Chem.FragmentOnBonds(mol_t, cut_bonds)\n",
    "res"
   ]
  },
  {
   "cell_type": "code",
   "execution_count": 63,
   "id": "connected-liverpool",
   "metadata": {},
   "outputs": [
    {
     "data": {
      "image/png": "[encoded data removed]",
      "text/plain": [
       "<rdkit.Chem.rdchem.Mol at 0x7fbed08cddf0>"
      ]
     },
     "execution_count": 63,
     "metadata": {},
     "output_type": "execute_result"
    }
   ],
   "source": [
    "mol_t"
   ]
  },
  {
   "cell_type": "code",
   "execution_count": 64,
   "id": "pediatric-cargo",
   "metadata": {
    "scrolled": false
   },
   "outputs": [
    {
     "data": {
      "image/png": "[encoded data removed]",
      "text/plain": [
       "<PIL.PngImagePlugin.PngImageFile image mode=RGB size=600x400 at 0x7FBEC9EE0F10>"
      ]
     },
     "execution_count": 64,
     "metadata": {},
     "output_type": "execute_result"
    }
   ],
   "source": [
    "frgs = Chem.GetMolFrags(res, asMols=True)\n",
    "Draw.MolsToGridImage(frgs)"
   ]
  },
  {
   "cell_type": "code",
   "execution_count": null,
   "id": "alien-configuration",
   "metadata": {},
   "outputs": [],
   "source": [
    "# def is_in_samering(idx1, idx2, bond_rings):\n",
    "#     for bond_ring in bond_rings:\n",
    "#         if idx1 in bond_ring and idx2 in bond_ring:\n",
    "#             return True\n",
    "#     return False\n",
    "\n",
    "\n",
    "# elif not is_in_samering(bgn_atom_idx, end_atom_idx, bond_rings) \n",
    "# and mol_t.GetAtomWithIdx(bgn_atom_idx).IsInRing()+mol_t.GetAtomWithIdx(end_atom_idx).IsInRing() == 2:"
   ]
  }
 ],
 "metadata": {
  "kernelspec": {
   "display_name": "Python 3",
   "language": "python",
   "name": "python3"
  },
  "language_info": {
   "codemirror_mode": {
    "name": "ipython",
    "version": 3
   },
   "file_extension": ".py",
   "mimetype": "text/x-python",
   "name": "python",
   "nbconvert_exporter": "python",
   "pygments_lexer": "ipython3",
   "version": "3.7.9"
  }
 },
 "nbformat": 4,
 "nbformat_minor": 5
}
