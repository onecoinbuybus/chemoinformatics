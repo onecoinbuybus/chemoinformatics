{
 "cells": [
  {
   "cell_type": "code",
   "execution_count": 1,
   "id": "broken-humidity",
   "metadata": {},
   "outputs": [],
   "source": [
    "import selfies as sf\n",
    "from rdkit import Chem\n",
    "\n",
    "benzene = 'c1ccccc1'"
   ]
  },
  {
   "cell_type": "code",
   "execution_count": 2,
   "id": "modified-woman",
   "metadata": {},
   "outputs": [
    {
     "data": {
      "text/plain": [
       "'[C][=C][C][=C][C][=C][Ring1][Branch1_2]'"
      ]
     },
     "execution_count": 2,
     "metadata": {},
     "output_type": "execute_result"
    }
   ],
   "source": [
    "encoded_selfies = sf.encoder(benzene) \n",
    "encoded_selfies"
   ]
  },
  {
   "cell_type": "code",
   "execution_count": 3,
   "id": "heard-marketplace",
   "metadata": {},
   "outputs": [
    {
     "data": {
      "text/plain": [
       "'C1=CC=CC=C1'"
      ]
     },
     "execution_count": 3,
     "metadata": {},
     "output_type": "execute_result"
    }
   ],
   "source": [
    "decoded_smiles = sf.decoder(encoded_selfies) \n",
    "decoded_smiles"
   ]
  },
  {
   "cell_type": "code",
   "execution_count": 4,
   "id": "dangerous-testing",
   "metadata": {},
   "outputs": [
    {
     "data": {
      "image/png": "[encoded data removed]",
      "text/plain": [
       "<rdkit.Chem.rdchem.Mol at 0x7fe189887e90>"
      ]
     },
     "execution_count": 4,
     "metadata": {},
     "output_type": "execute_result"
    }
   ],
   "source": [
    "Chem.MolFromSmiles(decoded_smiles)"
   ]
  },
  {
   "cell_type": "code",
   "execution_count": 5,
   "id": "italian-doctrine",
   "metadata": {},
   "outputs": [
    {
     "data": {
      "text/plain": [
       "'c1ccccc1'"
      ]
     },
     "execution_count": 5,
     "metadata": {},
     "output_type": "execute_result"
    }
   ],
   "source": [
    "Chem.MolToSmiles(Chem.MolFromSmiles(decoded_smiles))"
   ]
  },
  {
   "cell_type": "code",
   "execution_count": 6,
   "id": "christian-prototype",
   "metadata": {},
   "outputs": [
    {
     "data": {
      "text/plain": [
       "True"
      ]
     },
     "execution_count": 6,
     "metadata": {},
     "output_type": "execute_result"
    }
   ],
   "source": [
    "can_smiles = Chem.CanonSmiles(benzene)\n",
    "can_decoded_smiles = Chem.CanonSmiles(decoded_smiles)\n",
    "can_smiles == can_decoded_smiles"
   ]
  },
  {
   "cell_type": "code",
   "execution_count": 7,
   "id": "eastern-occasions",
   "metadata": {},
   "outputs": [
    {
     "data": {
      "text/plain": [
       "{'H': 1,\n",
       " 'F': 1,\n",
       " 'Cl': 1,\n",
       " 'Br': 1,\n",
       " 'I': 1,\n",
       " 'O': 2,\n",
       " 'O+1': 3,\n",
       " 'O-1': 1,\n",
       " 'N': 3,\n",
       " 'N+1': 4,\n",
       " 'N-1': 2,\n",
       " 'C': 4,\n",
       " 'C+1': 5,\n",
       " 'C-1': 3,\n",
       " 'S': 6,\n",
       " 'S+1': 7,\n",
       " 'S-1': 5,\n",
       " 'P': 7,\n",
       " 'P+1': 8,\n",
       " 'P-1': 6,\n",
       " '?': 8}"
      ]
     },
     "execution_count": 7,
     "metadata": {},
     "output_type": "execute_result"
    }
   ],
   "source": [
    "default_constraints = sf.get_semantic_constraints()\n",
    "default_constraints"
   ]
  },
  {
   "cell_type": "code",
   "execution_count": 8,
   "id": "accredited-connecticut",
   "metadata": {},
   "outputs": [
    {
     "data": {
      "text/plain": [
       "{'H': 1,\n",
       " 'F': 1,\n",
       " 'Cl': 1,\n",
       " 'Br': 1,\n",
       " 'I': 1,\n",
       " 'O': 2,\n",
       " 'O+1': 3,\n",
       " 'O-1': 1,\n",
       " 'N': 3,\n",
       " 'N+1': 4,\n",
       " 'N-1': 2,\n",
       " 'C': 4,\n",
       " 'C+1': 5,\n",
       " 'C-1': 3,\n",
       " 'S': 2,\n",
       " 'S+1': 7,\n",
       " 'S-1': 5,\n",
       " 'P': 7,\n",
       " 'P+1': 8,\n",
       " 'P-1': 6,\n",
       " '?': 8,\n",
       " 'Li': 1}"
      ]
     },
     "execution_count": 8,
     "metadata": {},
     "output_type": "execute_result"
    }
   ],
   "source": [
    "#自定义语义限制\n",
    "new_constraints = default_constraints\n",
    "new_constraints['Li'] = 1\n",
    "new_constraints['S'] = 2\n",
    "\n",
    "sf.set_semantic_constraints(new_constraints)\n",
    "sf.get_semantic_constraints()"
   ]
  },
  {
   "cell_type": "code",
   "execution_count": 9,
   "id": "compact-lighting",
   "metadata": {},
   "outputs": [
    {
     "data": {
      "text/plain": [
       "['[C]', '[=C]', '[C]', '[=C]', '[C]', '[=C]', '[Ring1]', '[Branch1_2]']"
      ]
     },
     "execution_count": 9,
     "metadata": {},
     "output_type": "execute_result"
    }
   ],
   "source": [
    "symbols_benzene = list(sf.split_selfies(encoded_selfies))\n",
    "symbols_benzene"
   ]
  },
  {
   "cell_type": "code",
   "execution_count": 10,
   "id": "protecting-mixture",
   "metadata": {},
   "outputs": [
    {
     "name": "stderr",
     "output_type": "stream",
     "text": [
      "RDKit ERROR: [16:50:44] SMILES Parse Error: syntax error while parsing: NNC(=O)CNC(=O)\\C=N\\#N\n",
      "RDKit ERROR: [16:50:44] SMILES Parse Error: Failed parsing SMILES 'NNC(=O)CNC(=O)\\C=N\\#N' for input: 'NNC(=O)CNC(=O)\\C=N\\#N'\n",
      "RDKit ERROR: [16:50:44] SMILES Parse Error: syntax error while parsing: O=C1NC(=O)\\C(=N/#N)\\C=N1\n",
      "RDKit ERROR: [16:50:44] SMILES Parse Error: Failed parsing SMILES 'O=C1NC(=O)\\C(=N/#N)\\C=N1' for input: 'O=C1NC(=O)\\C(=N/#N)\\C=N1'\n",
      "RDKit ERROR: [16:50:44] SMILES Parse Error: syntax error while parsing: NC(=O)CNC(=O)\\C=N\\#N\n",
      "RDKit ERROR: [16:50:44] SMILES Parse Error: Failed parsing SMILES 'NC(=O)CNC(=O)\\C=N\\#N' for input: 'NC(=O)CNC(=O)\\C=N\\#N'\n",
      "RDKit ERROR: [16:50:44] SMILES Parse Error: syntax error while parsing: CCCCN(CC(O)C1=C\\C(=N/#N)\\C(=O)C=C1)N=O\n",
      "RDKit ERROR: [16:50:44] SMILES Parse Error: Failed parsing SMILES 'CCCCN(CC(O)C1=C\\C(=N/#N)\\C(=O)C=C1)N=O' for input: 'CCCCN(CC(O)C1=C\\C(=N/#N)\\C(=O)C=C1)N=O'\n",
      "RDKit ERROR: [16:50:44] SMILES Parse Error: syntax error while parsing: NC(COC(=O)\\C=N/#N)C(=O)O\n",
      "RDKit ERROR: [16:50:44] SMILES Parse Error: Failed parsing SMILES 'NC(COC(=O)\\C=N/#N)C(=O)O' for input: 'NC(COC(=O)\\C=N/#N)C(=O)O'\n",
      "RDKit ERROR: [16:50:44] SMILES Parse Error: syntax error while parsing: CCN(CC(O)C1=CC(=O)\\C(=N\\#N)\\C=C1)N=O\n",
      "RDKit ERROR: [16:50:44] SMILES Parse Error: Failed parsing SMILES 'CCN(CC(O)C1=CC(=O)\\C(=N\\#N)\\C=C1)N=O' for input: 'CCN(CC(O)C1=CC(=O)\\C(=N\\#N)\\C=C1)N=O'\n",
      "RDKit ERROR: [16:50:45] SMILES Parse Error: syntax error while parsing: NNC(=O)CNC(=O)\\C=N\\#N\n",
      "RDKit ERROR: [16:50:45] SMILES Parse Error: Failed parsing SMILES 'NNC(=O)CNC(=O)\\C=N\\#N' for input: 'NNC(=O)CNC(=O)\\C=N\\#N'\n",
      "RDKit ERROR: [16:50:45] SMILES Parse Error: syntax error while parsing: O=C1NC(=O)\\C(=N/#N)\\C=N1\n",
      "RDKit ERROR: [16:50:45] SMILES Parse Error: Failed parsing SMILES 'O=C1NC(=O)\\C(=N/#N)\\C=N1' for input: 'O=C1NC(=O)\\C(=N/#N)\\C=N1'\n",
      "RDKit ERROR: [16:50:45] SMILES Parse Error: syntax error while parsing: NC(=O)CNC(=O)\\C=N\\#N\n",
      "RDKit ERROR: [16:50:45] SMILES Parse Error: Failed parsing SMILES 'NC(=O)CNC(=O)\\C=N\\#N' for input: 'NC(=O)CNC(=O)\\C=N\\#N'\n",
      "RDKit ERROR: [16:50:45] SMILES Parse Error: syntax error while parsing: CCCCN(CC(O)C1=C\\C(=N/#N)\\C(=O)C=C1)N=O\n",
      "RDKit ERROR: [16:50:45] SMILES Parse Error: Failed parsing SMILES 'CCCCN(CC(O)C1=C\\C(=N/#N)\\C(=O)C=C1)N=O' for input: 'CCCCN(CC(O)C1=C\\C(=N/#N)\\C(=O)C=C1)N=O'\n",
      "RDKit ERROR: [16:50:45] SMILES Parse Error: syntax error while parsing: NC(COC(=O)\\C=N/#N)C(=O)O\n",
      "RDKit ERROR: [16:50:45] SMILES Parse Error: Failed parsing SMILES 'NC(COC(=O)\\C=N/#N)C(=O)O' for input: 'NC(COC(=O)\\C=N/#N)C(=O)O'\n",
      "RDKit ERROR: [16:50:45] SMILES Parse Error: syntax error while parsing: CCN(CC(O)C1=CC(=O)\\C(=N\\#N)\\C=C1)N=O\n",
      "RDKit ERROR: [16:50:45] SMILES Parse Error: Failed parsing SMILES 'CCN(CC(O)C1=CC(=O)\\C(=N\\#N)\\C=C1)N=O' for input: 'CCN(CC(O)C1=CC(=O)\\C(=N\\#N)\\C=C1)N=O'\n"
     ]
    }
   ],
   "source": [
    "import numpy as np\n",
    "import pandas as pd\n",
    "import urllib.request \n",
    "from rdkit import Chem\n",
    "from rdkit.Chem import AllChem, Draw, Descriptors, PandasTools\n",
    "from rdkit.ML.Descriptors import MoleculeDescriptors\n",
    "\n",
    "url = 'https://raw.githubusercontent.com/onecoinbuybus/Database_chemoinformatics/master/smiles_cas_N6512.smi'\n",
    "urllib.request.urlretrieve(url, 'ames.txt') \n",
    "df = pd.read_csv('ames.txt',header=None, sep='\\t') \n",
    "df.columns = ['smiles', 'CAS_NO', 'activity']\n",
    "PandasTools.AddMoleculeColumnToFrame(frame=df, smilesCol='smiles')\n",
    "\n",
    "none_list=[]\n",
    "for i in range(df.shape[0]):\n",
    "    if Chem.MolFromSmiles(df['smiles'][i]) is None:\n",
    "        none_list.append(i)\n",
    "\n",
    "df=df.drop(none_list)"
   ]
  },
  {
   "cell_type": "code",
   "execution_count": 11,
   "id": "embedded-invention",
   "metadata": {},
   "outputs": [
    {
     "data": {
      "text/plain": [
       "'[C][C][=C][C][=C][C][Branch1_2][Branch1_1][=C][Ring1][Branch1_2][C][N+expl][Branch1_2][C][=O][O-expl]'"
      ]
     },
     "execution_count": 11,
     "metadata": {},
     "output_type": "execute_result"
    }
   ],
   "source": [
    "encoded_selfies = sf.encoder('Cc1cccc(c1C)[N+](=O)[O-]') \n",
    "encoded_selfies"
   ]
  },
  {
   "cell_type": "code",
   "execution_count": 12,
   "id": "comic-bible",
   "metadata": {},
   "outputs": [],
   "source": [
    "encoded_selfies = []\n",
    "for i in df['smiles'].tolist():\n",
    "    encoded_selfies.append(sf.encoder(i[:-1])+'[nop]')"
   ]
  },
  {
   "cell_type": "code",
   "execution_count": 13,
   "id": "enormous-cause",
   "metadata": {},
   "outputs": [
    {
     "data": {
      "text/plain": [
       "'[O][=C][C][=C][C][=C][C][=C][Ring1][Branch1_2][C][Branch1_2][C][=O][C][=C][Ring1][O][C][=C][C][=C][Ring1][Branch1_2][NHexpl][C][=C][C][Branch1_2][C][=O][C][=C][C][=C][C][=C][Ring1][Branch1_2][C][Branch1_2][C][=O][C][Ring1][N][=C][NHexpl][C][=C][C][Branch1_2][C][=O][C][=C][C][=C][C][=C][Ring1][Branch1_2][C][Branch1_2][C][=O][C][Ring1][N][=C][C][=C][Ring1][S][C][Ring2][Ring1][Ring1][=C][Ring2][Ring2][Ring2][Ring2][Ring1][P][nop]'"
      ]
     },
     "execution_count": 13,
     "metadata": {},
     "output_type": "execute_result"
    }
   ],
   "source": [
    "encoded_selfies[0]"
   ]
  },
  {
   "cell_type": "code",
   "execution_count": 14,
   "id": "horizontal-plaintiff",
   "metadata": {},
   "outputs": [
    {
     "name": "stdout",
     "output_type": "stream",
     "text": [
      "['[#C]', '[#N]', '[#O+expl]', '[/Br]', '[/C]', '[/Cl]', '[/F]', '[/N]', '[/O]', '[/S]', '[=C]', '[=N+expl]', '[=N-expl]', '[=N]', '[=O+expl]', '[=O]', '[=P]', '[=S+expl]', '[=S]', '[B]', '[Br]', '[Branch1_1]', '[Branch1_2]', '[Branch1_3]', '[Branch2_1]', '[Branch2_2]', '[Branch2_3]', '[C-expl]', '[C@@Hexpl]', '[C@@expl]', '[C@Hexpl]', '[C@expl]', '[CH-expl]', '[CH2-expl]', '[C]', '[Cl]', '[Expl/Ring1]', '[Expl/Ring2]', '[Expl=Ring1]', '[Expl=Ring2]', '[Expl\\\\Ring1]', '[Expl\\\\Ring2]', '[F]', '[I]', '[N+expl]', '[N-expl]', '[N@+expl]', '[N@@+expl]', '[NHexpl]', '[N]', '[O-expl]', '[O]', '[P+expl]', '[P@@expl]', '[P@expl]', '[P]', '[Ring1]', '[Ring2]', '[S+expl]', '[S]', '[Seexpl]', '[Siexpl]', '[\\\\Br]', '[\\\\C@@Hexpl]', '[\\\\C@Hexpl]', '[\\\\C]', '[\\\\Cl]', '[\\\\F]', '[\\\\N+expl]', '[\\\\N]', '[\\\\O]', '[\\\\S]', '[nop]']\n"
     ]
    }
   ],
   "source": [
    "alphabet = sf.get_alphabet_from_selfies(encoded_selfies)\n",
    "alphabet.add('[nop]')  # '[nop]' is a special padding symbol\n",
    "alphabet = list(sorted(alphabet))\n",
    "print(alphabet)"
   ]
  },
  {
   "cell_type": "code",
   "execution_count": 15,
   "id": "standing-bundle",
   "metadata": {},
   "outputs": [
    {
     "data": {
      "text/plain": [
       "348"
      ]
     },
     "execution_count": 15,
     "metadata": {},
     "output_type": "execute_result"
    }
   ],
   "source": [
    "pad_to_len = max(sf.len_selfies(s) for s in encoded_selfies)  \n",
    "symbol_to_idx = {s: i for i, s in enumerate(alphabet)}\n",
    "pad_to_len"
   ]
  },
  {
   "cell_type": "code",
   "execution_count": 16,
   "id": "greenhouse-treasury",
   "metadata": {},
   "outputs": [
    {
     "data": {
      "text/plain": [
       "'[O][=C][C][=C][C][=C][C][=C][Ring1][Branch1_2][C][Branch1_2][C][=O][C][=C][Ring1][O][C][=C][C][=C][Ring1][Branch1_2][NHexpl][C][=C][C][Branch1_2][C][=O][C][=C][C][=C][C][=C][Ring1][Branch1_2][C][Branch1_2][C][=O][C][Ring1][N][=C][NHexpl][C][=C][C][Branch1_2][C][=O][C][=C][C][=C][C][=C][Ring1][Branch1_2][C][Branch1_2][C][=O][C][Ring1][N][=C][C][=C][Ring1][S][C][Ring2][Ring1][Ring1][=C][Ring2][Ring2][Ring2][Ring2][Ring1][P][nop]'"
      ]
     },
     "execution_count": 16,
     "metadata": {},
     "output_type": "execute_result"
    }
   ],
   "source": [
    "encoded_selfies[0]"
   ]
  },
  {
   "cell_type": "code",
   "execution_count": 17,
   "id": "upset-seating",
   "metadata": {},
   "outputs": [],
   "source": [
    "symbol_to_int = dict((c, i) for i, c in enumerate(alphabet))\n",
    "\n",
    "integer_encoded_all=[]\n",
    "for i in encoded_selfies:\n",
    "    symbol_list = sf.split_selfies(i)\n",
    "    integer_encoded = [symbol_to_int[symbol] for symbol in symbol_list]\n",
    "    integer_encoded_all.append(integer_encoded)"
   ]
  },
  {
   "cell_type": "code",
   "execution_count": 18,
   "id": "tough-indonesian",
   "metadata": {},
   "outputs": [],
   "source": [
    "def vectorize_sequences(sequences, dimension):\n",
    "    results = np.zeros((len(sequences), dimension))\n",
    "    for i, sequence in enumerate(sequences):\n",
    "        results[i, sequence] = 1. \n",
    "    return results"
   ]
  },
  {
   "cell_type": "code",
   "execution_count": 19,
   "id": "infinite-crystal",
   "metadata": {},
   "outputs": [
    {
     "data": {
      "text/plain": [
       "[51,\n",
       " 10,\n",
       " 34,\n",
       " 10,\n",
       " 34,\n",
       " 10,\n",
       " 34,\n",
       " 10,\n",
       " 56,\n",
       " 22,\n",
       " 34,\n",
       " 22,\n",
       " 34,\n",
       " 15,\n",
       " 34,\n",
       " 10,\n",
       " 56,\n",
       " 51,\n",
       " 34,\n",
       " 10,\n",
       " 34,\n",
       " 10,\n",
       " 56,\n",
       " 22,\n",
       " 48,\n",
       " 34,\n",
       " 10,\n",
       " 34,\n",
       " 22,\n",
       " 34,\n",
       " 15,\n",
       " 34,\n",
       " 10,\n",
       " 34,\n",
       " 10,\n",
       " 34,\n",
       " 10,\n",
       " 56,\n",
       " 22,\n",
       " 34,\n",
       " 22,\n",
       " 34,\n",
       " 15,\n",
       " 34,\n",
       " 56,\n",
       " 49,\n",
       " 10,\n",
       " 48,\n",
       " 34,\n",
       " 10,\n",
       " 34,\n",
       " 22,\n",
       " 34,\n",
       " 15,\n",
       " 34,\n",
       " 10,\n",
       " 34,\n",
       " 10,\n",
       " 34,\n",
       " 10,\n",
       " 56,\n",
       " 22,\n",
       " 34,\n",
       " 22,\n",
       " 34,\n",
       " 15,\n",
       " 34,\n",
       " 56,\n",
       " 49,\n",
       " 10,\n",
       " 34,\n",
       " 10,\n",
       " 56,\n",
       " 59,\n",
       " 34,\n",
       " 57,\n",
       " 56,\n",
       " 56,\n",
       " 10,\n",
       " 57,\n",
       " 57,\n",
       " 57,\n",
       " 57,\n",
       " 56,\n",
       " 55,\n",
       " 72]"
      ]
     },
     "execution_count": 19,
     "metadata": {},
     "output_type": "execute_result"
    }
   ],
   "source": [
    "integer_encoded_all[0]"
   ]
  },
  {
   "cell_type": "code",
   "execution_count": 20,
   "id": "satisfied-engineering",
   "metadata": {},
   "outputs": [],
   "source": [
    "x = vectorize_sequences(integer_encoded_all, len(alphabet))"
   ]
  },
  {
   "cell_type": "code",
   "execution_count": 21,
   "id": "soviet-pickup",
   "metadata": {},
   "outputs": [
    {
     "data": {
      "text/plain": [
       "array([0., 0., 0., 0., 0., 0., 0., 0., 0., 0., 1., 0., 0., 0., 0., 1., 0.,\n",
       "       0., 0., 0., 0., 0., 1., 0., 0., 0., 0., 0., 0., 0., 0., 0., 0., 0.,\n",
       "       1., 0., 0., 0., 0., 0., 0., 0., 0., 0., 0., 0., 0., 0., 1., 1., 0.,\n",
       "       1., 0., 0., 0., 1., 1., 1., 0., 1., 0., 0., 0., 0., 0., 0., 0., 0.,\n",
       "       0., 0., 0., 0., 1.])"
      ]
     },
     "execution_count": 21,
     "metadata": {},
     "output_type": "execute_result"
    }
   ],
   "source": [
    "x[0]"
   ]
  },
  {
   "cell_type": "code",
   "execution_count": 22,
   "id": "classified-model",
   "metadata": {},
   "outputs": [],
   "source": [
    "y=df['activity']"
   ]
  },
  {
   "cell_type": "code",
   "execution_count": 23,
   "id": "formed-marijuana",
   "metadata": {},
   "outputs": [],
   "source": [
    "from sklearn import tree\n",
    "from sklearn.model_selection import train_test_split"
   ]
  },
  {
   "cell_type": "code",
   "execution_count": 24,
   "id": "green-qatar",
   "metadata": {},
   "outputs": [],
   "source": [
    "X_train, X_test, y_train, y_test = train_test_split(x, y, test_size=0.3, random_state=66)"
   ]
  },
  {
   "cell_type": "code",
   "execution_count": 25,
   "id": "parallel-stack",
   "metadata": {},
   "outputs": [],
   "source": [
    "clf = tree.DecisionTreeClassifier()"
   ]
  },
  {
   "cell_type": "code",
   "execution_count": 26,
   "id": "exclusive-worship",
   "metadata": {},
   "outputs": [
    {
     "data": {
      "text/plain": [
       "DecisionTreeClassifier()"
      ]
     },
     "execution_count": 26,
     "metadata": {},
     "output_type": "execute_result"
    }
   ],
   "source": [
    "clf.fit(X_train, y_train)"
   ]
  },
  {
   "cell_type": "code",
   "execution_count": 27,
   "id": "transsexual-talent",
   "metadata": {},
   "outputs": [],
   "source": [
    "from sklearn.metrics import accuracy_score"
   ]
  },
  {
   "cell_type": "code",
   "execution_count": 28,
   "id": "vocational-browse",
   "metadata": {},
   "outputs": [
    {
     "data": {
      "text/plain": [
       "0.6675204918032787"
      ]
     },
     "execution_count": 28,
     "metadata": {},
     "output_type": "execute_result"
    }
   ],
   "source": [
    "accuracy_score(y_test,clf.predict(X_test))"
   ]
  },
  {
   "cell_type": "code",
   "execution_count": 29,
   "id": "accurate-earth",
   "metadata": {},
   "outputs": [],
   "source": [
    "# smiles"
   ]
  },
  {
   "cell_type": "code",
   "execution_count": 30,
   "id": "precise-account",
   "metadata": {},
   "outputs": [
    {
     "data": {
      "text/plain": [
       "'O=C1c2ccccc2C(=O)c3c1ccc4c3[nH]c5c6C(=O)c7ccccc7C(=O)c6c8[nH]c9c%10C(=O)c%11ccccc%11C(=O)c%10ccc9c8c45 '"
      ]
     },
     "execution_count": 30,
     "metadata": {},
     "output_type": "execute_result"
    }
   ],
   "source": [
    "df['smiles'][0]"
   ]
  },
  {
   "cell_type": "code",
   "execution_count": 31,
   "id": "spectacular-accountability",
   "metadata": {},
   "outputs": [],
   "source": [
    "volcabulary = set(\"\".join(list(df.smiles)))\n",
    "volcabulary.update({'<go>', '<eos>'})"
   ]
  },
  {
   "cell_type": "code",
   "execution_count": 32,
   "id": "certified-second",
   "metadata": {},
   "outputs": [],
   "source": [
    "volcabulary.remove(' ')"
   ]
  },
  {
   "cell_type": "code",
   "execution_count": 33,
   "id": "attached-variance",
   "metadata": {},
   "outputs": [],
   "source": [
    "docs = dict((c,i) for i,c in enumerate(volcabulary))\n",
    "docs_swap= {v: k for k, v in docs.items()}\n",
    "embed = max([len(smile) for smile in df['smiles']])"
   ]
  },
  {
   "cell_type": "code",
   "execution_count": 34,
   "id": "given-ceramic",
   "metadata": {},
   "outputs": [],
   "source": [
    "smiles_smiles=[x.replace(' ', '') for x in df['smiles']]"
   ]
  },
  {
   "cell_type": "code",
   "execution_count": 35,
   "id": "isolated-mills",
   "metadata": {},
   "outputs": [],
   "source": [
    "def smi2id(smiles,vocalbulary):\n",
    "    sequence_id=[]\n",
    "    for i in range(len(smiles)):\n",
    "        smi_id=[]\n",
    "        for j in range(len(smiles[i])):\n",
    "            smi_id.append(vocalbulary.index(smiles[i][j]))\n",
    "        sequence_id.append(smi_id)\n",
    "    return sequence_id"
   ]
  },
  {
   "cell_type": "code",
   "execution_count": 36,
   "id": "living-writing",
   "metadata": {},
   "outputs": [],
   "source": [
    "int_encoded_all_smi=[]\n",
    "for i in smiles_smiles:\n",
    "    int_encoded=np.array(smi2id(i,list(volcabulary))).ravel().tolist()\n",
    "    int_encoded_all_smi.append(int_encoded)"
   ]
  },
  {
   "cell_type": "code",
   "execution_count": null,
   "id": "meaningful-chase",
   "metadata": {},
   "outputs": [],
   "source": []
  },
  {
   "cell_type": "code",
   "execution_count": 37,
   "id": "parental-average",
   "metadata": {},
   "outputs": [],
   "source": [
    "x_smi=vectorize_sequences(int_encoded_all_smi,embed)"
   ]
  },
  {
   "cell_type": "code",
   "execution_count": 38,
   "id": "selective-excess",
   "metadata": {},
   "outputs": [
    {
     "data": {
      "text/plain": [
       "(6506, 490)"
      ]
     },
     "execution_count": 38,
     "metadata": {},
     "output_type": "execute_result"
    }
   ],
   "source": [
    "x_smi.shape"
   ]
  },
  {
   "cell_type": "code",
   "execution_count": 39,
   "id": "rocky-postcard",
   "metadata": {},
   "outputs": [],
   "source": [
    "X_train, X_test, y_train, y_test = train_test_split(x_smi, y, test_size=0.3, random_state=66)"
   ]
  },
  {
   "cell_type": "code",
   "execution_count": 40,
   "id": "quality-owner",
   "metadata": {},
   "outputs": [
    {
     "data": {
      "text/plain": [
       "0.7085040983606558"
      ]
     },
     "execution_count": 40,
     "metadata": {},
     "output_type": "execute_result"
    }
   ],
   "source": [
    "clf.fit(X_train, y_train)\n",
    "accuracy_score(y_test,clf.predict(X_test))"
   ]
  },
  {
   "cell_type": "code",
   "execution_count": null,
   "id": "billion-calibration",
   "metadata": {},
   "outputs": [],
   "source": []
  }
 ],
 "metadata": {
  "kernelspec": {
   "display_name": "Python 3",
   "language": "python",
   "name": "python3"
  },
  "language_info": {
   "codemirror_mode": {
    "name": "ipython",
    "version": 3
   },
   "file_extension": ".py",
   "mimetype": "text/x-python",
   "name": "python",
   "nbconvert_exporter": "python",
   "pygments_lexer": "ipython3",
   "version": "3.7.9"
  }
 },
 "nbformat": 4,
 "nbformat_minor": 5
}
