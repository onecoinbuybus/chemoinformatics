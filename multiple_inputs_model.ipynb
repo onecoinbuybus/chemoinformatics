{
 "cells": [
  {
   "cell_type": "code",
   "execution_count": 1,
   "metadata": {},
   "outputs": [
    {
     "name": "stderr",
     "output_type": "stream",
     "text": [
      "RDKit ERROR: [20:02:24] SMILES Parse Error: syntax error while parsing: NNC(=O)CNC(=O)\\C=N\\#N\n",
      "RDKit ERROR: [20:02:24] SMILES Parse Error: Failed parsing SMILES 'NNC(=O)CNC(=O)\\C=N\\#N' for input: 'NNC(=O)CNC(=O)\\C=N\\#N'\n",
      "RDKit ERROR: [20:02:24] SMILES Parse Error: syntax error while parsing: O=C1NC(=O)\\C(=N/#N)\\C=N1\n",
      "RDKit ERROR: [20:02:24] SMILES Parse Error: Failed parsing SMILES 'O=C1NC(=O)\\C(=N/#N)\\C=N1' for input: 'O=C1NC(=O)\\C(=N/#N)\\C=N1'\n",
      "RDKit ERROR: [20:02:24] SMILES Parse Error: syntax error while parsing: NC(=O)CNC(=O)\\C=N\\#N\n",
      "RDKit ERROR: [20:02:24] SMILES Parse Error: Failed parsing SMILES 'NC(=O)CNC(=O)\\C=N\\#N' for input: 'NC(=O)CNC(=O)\\C=N\\#N'\n",
      "RDKit ERROR: [20:02:24] SMILES Parse Error: syntax error while parsing: CCCCN(CC(O)C1=C\\C(=N/#N)\\C(=O)C=C1)N=O\n",
      "RDKit ERROR: [20:02:24] SMILES Parse Error: Failed parsing SMILES 'CCCCN(CC(O)C1=C\\C(=N/#N)\\C(=O)C=C1)N=O' for input: 'CCCCN(CC(O)C1=C\\C(=N/#N)\\C(=O)C=C1)N=O'\n",
      "RDKit ERROR: [20:02:24] SMILES Parse Error: syntax error while parsing: NC(COC(=O)\\C=N/#N)C(=O)O\n",
      "RDKit ERROR: [20:02:24] SMILES Parse Error: Failed parsing SMILES 'NC(COC(=O)\\C=N/#N)C(=O)O' for input: 'NC(COC(=O)\\C=N/#N)C(=O)O'\n",
      "RDKit ERROR: [20:02:24] SMILES Parse Error: syntax error while parsing: CCN(CC(O)C1=CC(=O)\\C(=N\\#N)\\C=C1)N=O\n",
      "RDKit ERROR: [20:02:24] SMILES Parse Error: Failed parsing SMILES 'CCN(CC(O)C1=CC(=O)\\C(=N\\#N)\\C=C1)N=O' for input: 'CCN(CC(O)C1=CC(=O)\\C(=N\\#N)\\C=C1)N=O'\n",
      "RDKit ERROR: [20:02:25] SMILES Parse Error: syntax error while parsing: NNC(=O)CNC(=O)\\C=N\\#N\n",
      "RDKit ERROR: [20:02:25] SMILES Parse Error: Failed parsing SMILES 'NNC(=O)CNC(=O)\\C=N\\#N' for input: 'NNC(=O)CNC(=O)\\C=N\\#N'\n",
      "RDKit ERROR: [20:02:25] SMILES Parse Error: syntax error while parsing: O=C1NC(=O)\\C(=N/#N)\\C=N1\n",
      "RDKit ERROR: [20:02:25] SMILES Parse Error: Failed parsing SMILES 'O=C1NC(=O)\\C(=N/#N)\\C=N1' for input: 'O=C1NC(=O)\\C(=N/#N)\\C=N1'\n",
      "RDKit ERROR: [20:02:25] SMILES Parse Error: syntax error while parsing: NC(=O)CNC(=O)\\C=N\\#N\n",
      "RDKit ERROR: [20:02:25] SMILES Parse Error: Failed parsing SMILES 'NC(=O)CNC(=O)\\C=N\\#N' for input: 'NC(=O)CNC(=O)\\C=N\\#N'\n",
      "RDKit ERROR: [20:02:25] SMILES Parse Error: syntax error while parsing: CCCCN(CC(O)C1=C\\C(=N/#N)\\C(=O)C=C1)N=O\n",
      "RDKit ERROR: [20:02:25] SMILES Parse Error: Failed parsing SMILES 'CCCCN(CC(O)C1=C\\C(=N/#N)\\C(=O)C=C1)N=O' for input: 'CCCCN(CC(O)C1=C\\C(=N/#N)\\C(=O)C=C1)N=O'\n",
      "RDKit ERROR: [20:02:25] SMILES Parse Error: syntax error while parsing: NC(COC(=O)\\C=N/#N)C(=O)O\n",
      "RDKit ERROR: [20:02:25] SMILES Parse Error: Failed parsing SMILES 'NC(COC(=O)\\C=N/#N)C(=O)O' for input: 'NC(COC(=O)\\C=N/#N)C(=O)O'\n",
      "RDKit ERROR: [20:02:25] SMILES Parse Error: syntax error while parsing: CCN(CC(O)C1=CC(=O)\\C(=N\\#N)\\C=C1)N=O\n",
      "RDKit ERROR: [20:02:25] SMILES Parse Error: Failed parsing SMILES 'CCN(CC(O)C1=CC(=O)\\C(=N\\#N)\\C=C1)N=O' for input: 'CCN(CC(O)C1=CC(=O)\\C(=N\\#N)\\C=C1)N=O'\n"
     ]
    }
   ],
   "source": [
    "import numpy as np\n",
    "import pandas as pd\n",
    "import urllib.request \n",
    "from rdkit import Chem\n",
    "from rdkit.Chem import AllChem, Draw, Descriptors, PandasTools\n",
    "from rdkit.ML.Descriptors import MoleculeDescriptors\n",
    "from sklearn.model_selection import train_test_split\n",
    "\n",
    "url = 'https://raw.githubusercontent.com/onecoinbuybus/Database_chemoinformatics/master/smiles_cas_N6512.smi'\n",
    "urllib.request.urlretrieve(url, 'ames.txt') \n",
    "df = pd.read_csv('ames.txt',header=None, sep='\\t') \n",
    "df.columns = ['smiles', 'CAS_NO', 'activity']\n",
    "PandasTools.AddMoleculeColumnToFrame(frame=df, smilesCol='smiles')\n",
    "\n",
    "none_list=[]\n",
    "for i in range(df.shape[0]):\n",
    "    if Chem.MolFromSmiles(df['smiles'][i]) is None:\n",
    "        none_list.append(i)\n",
    "        \n",
    "df=df.drop(none_list)\n",
    "mols=[Chem.MolFromSmiles(smile) for smile in df['smiles']]\n",
    "\n",
    "maccskeys = []\n",
    "for m in mols:\n",
    "    maccskey = [x for x in AllChem.GetMACCSKeysFingerprint(m)]\n",
    "    maccskeys.append(maccskey)"
   ]
  },
  {
   "cell_type": "code",
   "execution_count": 2,
   "metadata": {},
   "outputs": [],
   "source": [
    "descriptor_names = [x[0] for x in Descriptors._descList]\n",
    "descriptor_calculator = MoleculeDescriptors.MolecularDescriptorCalculator(descriptor_names)"
   ]
  },
  {
   "cell_type": "code",
   "execution_count": 3,
   "metadata": {},
   "outputs": [],
   "source": [
    "descriptors = [descriptor_calculator.CalcDescriptors(mol) for mol in mols]"
   ]
  },
  {
   "cell_type": "code",
   "execution_count": 4,
   "metadata": {},
   "outputs": [],
   "source": [
    "x_1 = np.array(maccskeys)    \n",
    "x_2 = np.array(descriptors)   "
   ]
  },
  {
   "cell_type": "code",
   "execution_count": 5,
   "metadata": {},
   "outputs": [],
   "source": [
    "y = df['activity']"
   ]
  },
  {
   "cell_type": "code",
   "execution_count": 6,
   "metadata": {},
   "outputs": [
    {
     "name": "stdout",
     "output_type": "stream",
     "text": [
      "(6506, 167)\n",
      "(6506, 200)\n",
      "(6506,)\n"
     ]
    }
   ],
   "source": [
    "print(x_1.shape)\n",
    "print(x_2.shape)\n",
    "print(y.shape)"
   ]
  },
  {
   "cell_type": "code",
   "execution_count": 7,
   "metadata": {},
   "outputs": [],
   "source": [
    "from random import random\n",
    "\n",
    "import matplotlib.pyplot as plt\n",
    "from tensorflow.keras.layers import Input, concatenate, Dense\n",
    "from tensorflow.keras.models import Model"
   ]
  },
  {
   "cell_type": "code",
   "execution_count": 8,
   "metadata": {},
   "outputs": [],
   "source": [
    "input1 = Input(shape=(x_1.shape[-1],))\n",
    "input2 = Input(shape=(x_2.shape[-1],))"
   ]
  },
  {
   "cell_type": "code",
   "execution_count": 9,
   "metadata": {},
   "outputs": [],
   "source": [
    "Layer_1 = Dense(128, activation=\"linear\")(input1)\n",
    "outputs_1 = Model(inputs=input1, outputs=Layer_1)\n",
    "Layer_2 = Dense(128, activation=\"linear\")(input2)\n",
    "outputs_2 = Model(inputs=input2, outputs=Layer_2)"
   ]
  },
  {
   "cell_type": "code",
   "execution_count": 10,
   "metadata": {},
   "outputs": [],
   "source": [
    "combined = concatenate([outputs_1.output, outputs_2.output])"
   ]
  },
  {
   "cell_type": "code",
   "execution_count": 11,
   "metadata": {},
   "outputs": [],
   "source": [
    "Combined_layer = Dense(64, activation=\"relu\")(combined)\n",
    "out_put = Dense(1, activation=\"sigmoid\")(Combined_layer)"
   ]
  },
  {
   "cell_type": "code",
   "execution_count": 12,
   "metadata": {},
   "outputs": [
    {
     "name": "stdout",
     "output_type": "stream",
     "text": [
      "Model: \"model_2\"\n",
      "__________________________________________________________________________________________________\n",
      "Layer (type)                    Output Shape         Param #     Connected to                     \n",
      "==================================================================================================\n",
      "input_1 (InputLayer)            [(None, 167)]        0                                            \n",
      "__________________________________________________________________________________________________\n",
      "input_2 (InputLayer)            [(None, 200)]        0                                            \n",
      "__________________________________________________________________________________________________\n",
      "dense (Dense)                   (None, 128)          21504       input_1[0][0]                    \n",
      "__________________________________________________________________________________________________\n",
      "dense_1 (Dense)                 (None, 128)          25728       input_2[0][0]                    \n",
      "__________________________________________________________________________________________________\n",
      "concatenate (Concatenate)       (None, 256)          0           dense[0][0]                      \n",
      "                                                                 dense_1[0][0]                    \n",
      "__________________________________________________________________________________________________\n",
      "dense_2 (Dense)                 (None, 64)           16448       concatenate[0][0]                \n",
      "__________________________________________________________________________________________________\n",
      "dense_3 (Dense)                 (None, 1)            65          dense_2[0][0]                    \n",
      "==================================================================================================\n",
      "Total params: 63,745\n",
      "Trainable params: 63,745\n",
      "Non-trainable params: 0\n",
      "__________________________________________________________________________________________________\n"
     ]
    }
   ],
   "source": [
    "model = Model(inputs=[outputs_1.input, outputs_2.input], outputs=out_put)\n",
    "model.compile(loss='binary_crossentropy', optimizer='adam', metrics=['acc'])\n",
    "model.summary()"
   ]
  },
  {
   "cell_type": "code",
   "execution_count": 13,
   "metadata": {},
   "outputs": [
    {
     "name": "stdout",
     "output_type": "stream",
     "text": [
      "Epoch 1/5\n",
      "204/204 [==============================] - 1s 931us/step - loss: nan - acc: 0.4825\n",
      "Epoch 2/5\n",
      "204/204 [==============================] - 0s 854us/step - loss: nan - acc: 0.4483\n",
      "Epoch 3/5\n",
      "204/204 [==============================] - 0s 846us/step - loss: nan - acc: 0.4653\n",
      "Epoch 4/5\n",
      "204/204 [==============================] - 0s 949us/step - loss: nan - acc: 0.4644\n",
      "Epoch 5/5\n",
      "204/204 [==============================] - 0s 913us/step - loss: nan - acc: 0.4630\n"
     ]
    }
   ],
   "source": [
    "history = model.fit([x_1, x_2], y, epochs=5)"
   ]
  },
  {
   "cell_type": "code",
   "execution_count": null,
   "metadata": {},
   "outputs": [],
   "source": []
  },
  {
   "cell_type": "code",
   "execution_count": null,
   "metadata": {},
   "outputs": [],
   "source": []
  }
 ],
 "metadata": {
  "kernelspec": {
   "display_name": "Python 3",
   "language": "python",
   "name": "python3"
  },
  "language_info": {
   "codemirror_mode": {
    "name": "ipython",
    "version": 3
   },
   "file_extension": ".py",
   "mimetype": "text/x-python",
   "name": "python",
   "nbconvert_exporter": "python",
   "pygments_lexer": "ipython3",
   "version": "3.8.3"
  }
 },
 "nbformat": 4,
 "nbformat_minor": 4
}
